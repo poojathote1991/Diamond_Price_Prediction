{
 "cells": [
  {
   "cell_type": "code",
   "execution_count": 1,
   "id": "a5dd17a2",
   "metadata": {},
   "outputs": [],
   "source": [
    "import pandas as pd\n",
    "import numpy as np\n",
    "\n",
    "from sklearn.datasets import  load_diabetes\n",
    "from statsmodels.stats.outliers_influence import variance_inflation_factor\n",
    "\n",
    "from sklearn.model_selection import train_test_split\n",
    "\n",
    "from sklearn.linear_model import LinearRegression, LogisticRegression\n",
    "\n",
    "from sklearn.metrics import mean_squared_error, r2_score, mean_absolute_error\n",
    "\n",
    "import statsmodels.api as sm\n",
    "import matplotlib.pyplot as plt\n",
    "import seaborn as sns\n",
    "from scipy.stats import shapiro,kstest,normaltest,skew\n",
    "\n",
    "import pickle\n",
    "import json\n",
    "\n",
    "import warnings\n",
    "warnings.filterwarnings('ignore')"
   ]
  },
  {
   "cell_type": "markdown",
   "id": "8c80f15c",
   "metadata": {},
   "source": [
    "## 1.Problem Statement"
   ]
  },
  {
   "cell_type": "markdown",
   "id": "0f97a8ff",
   "metadata": {},
   "source": [
    "to predict the price of diamods by using following information\n",
    "independent features\n",
    "carat\t\n",
    "cut\t\n",
    "color\t\n",
    "clarity\t\n",
    "depth\t\n",
    "table\n",
    "x\t\n",
    "y\t\n",
    "z\t\n",
    "dependent variable \n",
    "price\n"
   ]
  },
  {
   "cell_type": "markdown",
   "id": "7df84ce2",
   "metadata": {},
   "source": [
    "## 2 Data gathering"
   ]
  },
  {
   "cell_type": "code",
   "execution_count": 2,
   "id": "3cfda493",
   "metadata": {},
   "outputs": [
    {
     "data": {
      "text/html": [
       "<div>\n",
       "<style scoped>\n",
       "    .dataframe tbody tr th:only-of-type {\n",
       "        vertical-align: middle;\n",
       "    }\n",
       "\n",
       "    .dataframe tbody tr th {\n",
       "        vertical-align: top;\n",
       "    }\n",
       "\n",
       "    .dataframe thead th {\n",
       "        text-align: right;\n",
       "    }\n",
       "</style>\n",
       "<table border=\"1\" class=\"dataframe\">\n",
       "  <thead>\n",
       "    <tr style=\"text-align: right;\">\n",
       "      <th></th>\n",
       "      <th>carat</th>\n",
       "      <th>cut</th>\n",
       "      <th>color</th>\n",
       "      <th>clarity</th>\n",
       "      <th>depth</th>\n",
       "      <th>table</th>\n",
       "      <th>price</th>\n",
       "      <th>x</th>\n",
       "      <th>y</th>\n",
       "      <th>z</th>\n",
       "    </tr>\n",
       "  </thead>\n",
       "  <tbody>\n",
       "    <tr>\n",
       "      <th>0</th>\n",
       "      <td>0.23</td>\n",
       "      <td>Ideal</td>\n",
       "      <td>E</td>\n",
       "      <td>SI2</td>\n",
       "      <td>61.5</td>\n",
       "      <td>55.0</td>\n",
       "      <td>326</td>\n",
       "      <td>3.95</td>\n",
       "      <td>3.98</td>\n",
       "      <td>2.43</td>\n",
       "    </tr>\n",
       "    <tr>\n",
       "      <th>1</th>\n",
       "      <td>0.21</td>\n",
       "      <td>Premium</td>\n",
       "      <td>E</td>\n",
       "      <td>SI1</td>\n",
       "      <td>59.8</td>\n",
       "      <td>61.0</td>\n",
       "      <td>326</td>\n",
       "      <td>3.89</td>\n",
       "      <td>3.84</td>\n",
       "      <td>2.31</td>\n",
       "    </tr>\n",
       "    <tr>\n",
       "      <th>2</th>\n",
       "      <td>0.23</td>\n",
       "      <td>Good</td>\n",
       "      <td>E</td>\n",
       "      <td>VS1</td>\n",
       "      <td>56.9</td>\n",
       "      <td>65.0</td>\n",
       "      <td>327</td>\n",
       "      <td>4.05</td>\n",
       "      <td>4.07</td>\n",
       "      <td>2.31</td>\n",
       "    </tr>\n",
       "    <tr>\n",
       "      <th>3</th>\n",
       "      <td>0.29</td>\n",
       "      <td>Premium</td>\n",
       "      <td>I</td>\n",
       "      <td>VS2</td>\n",
       "      <td>62.4</td>\n",
       "      <td>58.0</td>\n",
       "      <td>334</td>\n",
       "      <td>4.20</td>\n",
       "      <td>4.23</td>\n",
       "      <td>2.63</td>\n",
       "    </tr>\n",
       "    <tr>\n",
       "      <th>4</th>\n",
       "      <td>0.31</td>\n",
       "      <td>Good</td>\n",
       "      <td>J</td>\n",
       "      <td>SI2</td>\n",
       "      <td>63.3</td>\n",
       "      <td>58.0</td>\n",
       "      <td>335</td>\n",
       "      <td>4.34</td>\n",
       "      <td>4.35</td>\n",
       "      <td>2.75</td>\n",
       "    </tr>\n",
       "    <tr>\n",
       "      <th>...</th>\n",
       "      <td>...</td>\n",
       "      <td>...</td>\n",
       "      <td>...</td>\n",
       "      <td>...</td>\n",
       "      <td>...</td>\n",
       "      <td>...</td>\n",
       "      <td>...</td>\n",
       "      <td>...</td>\n",
       "      <td>...</td>\n",
       "      <td>...</td>\n",
       "    </tr>\n",
       "    <tr>\n",
       "      <th>53935</th>\n",
       "      <td>0.72</td>\n",
       "      <td>Ideal</td>\n",
       "      <td>D</td>\n",
       "      <td>SI1</td>\n",
       "      <td>60.8</td>\n",
       "      <td>57.0</td>\n",
       "      <td>2757</td>\n",
       "      <td>5.75</td>\n",
       "      <td>5.76</td>\n",
       "      <td>3.50</td>\n",
       "    </tr>\n",
       "    <tr>\n",
       "      <th>53936</th>\n",
       "      <td>0.72</td>\n",
       "      <td>Good</td>\n",
       "      <td>D</td>\n",
       "      <td>SI1</td>\n",
       "      <td>63.1</td>\n",
       "      <td>55.0</td>\n",
       "      <td>2757</td>\n",
       "      <td>5.69</td>\n",
       "      <td>5.75</td>\n",
       "      <td>3.61</td>\n",
       "    </tr>\n",
       "    <tr>\n",
       "      <th>53937</th>\n",
       "      <td>0.70</td>\n",
       "      <td>Very Good</td>\n",
       "      <td>D</td>\n",
       "      <td>SI1</td>\n",
       "      <td>62.8</td>\n",
       "      <td>60.0</td>\n",
       "      <td>2757</td>\n",
       "      <td>5.66</td>\n",
       "      <td>5.68</td>\n",
       "      <td>3.56</td>\n",
       "    </tr>\n",
       "    <tr>\n",
       "      <th>53938</th>\n",
       "      <td>0.86</td>\n",
       "      <td>Premium</td>\n",
       "      <td>H</td>\n",
       "      <td>SI2</td>\n",
       "      <td>61.0</td>\n",
       "      <td>58.0</td>\n",
       "      <td>2757</td>\n",
       "      <td>6.15</td>\n",
       "      <td>6.12</td>\n",
       "      <td>3.74</td>\n",
       "    </tr>\n",
       "    <tr>\n",
       "      <th>53939</th>\n",
       "      <td>0.75</td>\n",
       "      <td>Ideal</td>\n",
       "      <td>D</td>\n",
       "      <td>SI2</td>\n",
       "      <td>62.2</td>\n",
       "      <td>55.0</td>\n",
       "      <td>2757</td>\n",
       "      <td>5.83</td>\n",
       "      <td>5.87</td>\n",
       "      <td>3.64</td>\n",
       "    </tr>\n",
       "  </tbody>\n",
       "</table>\n",
       "<p>53940 rows × 10 columns</p>\n",
       "</div>"
      ],
      "text/plain": [
       "       carat        cut color clarity  depth  table  price     x     y     z\n",
       "0       0.23      Ideal     E     SI2   61.5   55.0    326  3.95  3.98  2.43\n",
       "1       0.21    Premium     E     SI1   59.8   61.0    326  3.89  3.84  2.31\n",
       "2       0.23       Good     E     VS1   56.9   65.0    327  4.05  4.07  2.31\n",
       "3       0.29    Premium     I     VS2   62.4   58.0    334  4.20  4.23  2.63\n",
       "4       0.31       Good     J     SI2   63.3   58.0    335  4.34  4.35  2.75\n",
       "...      ...        ...   ...     ...    ...    ...    ...   ...   ...   ...\n",
       "53935   0.72      Ideal     D     SI1   60.8   57.0   2757  5.75  5.76  3.50\n",
       "53936   0.72       Good     D     SI1   63.1   55.0   2757  5.69  5.75  3.61\n",
       "53937   0.70  Very Good     D     SI1   62.8   60.0   2757  5.66  5.68  3.56\n",
       "53938   0.86    Premium     H     SI2   61.0   58.0   2757  6.15  6.12  3.74\n",
       "53939   0.75      Ideal     D     SI2   62.2   55.0   2757  5.83  5.87  3.64\n",
       "\n",
       "[53940 rows x 10 columns]"
      ]
     },
     "execution_count": 2,
     "metadata": {},
     "output_type": "execute_result"
    }
   ],
   "source": [
    "df=pd.read_csv(\"diamonds.csv\")\n",
    "df"
   ]
  },
  {
   "cell_type": "code",
   "execution_count": null,
   "id": "f93535d5",
   "metadata": {},
   "outputs": [],
   "source": []
  },
  {
   "cell_type": "code",
   "execution_count": 3,
   "id": "e5179d4c",
   "metadata": {},
   "outputs": [],
   "source": [
    "#df=df.drop(\"ID\",axis=1)\n",
    "#df"
   ]
  },
  {
   "cell_type": "code",
   "execution_count": 4,
   "id": "9c5203e5",
   "metadata": {},
   "outputs": [
    {
     "data": {
      "text/html": [
       "<div>\n",
       "<style scoped>\n",
       "    .dataframe tbody tr th:only-of-type {\n",
       "        vertical-align: middle;\n",
       "    }\n",
       "\n",
       "    .dataframe tbody tr th {\n",
       "        vertical-align: top;\n",
       "    }\n",
       "\n",
       "    .dataframe thead th {\n",
       "        text-align: right;\n",
       "    }\n",
       "</style>\n",
       "<table border=\"1\" class=\"dataframe\">\n",
       "  <thead>\n",
       "    <tr style=\"text-align: right;\">\n",
       "      <th></th>\n",
       "      <th>0</th>\n",
       "    </tr>\n",
       "  </thead>\n",
       "  <tbody>\n",
       "    <tr>\n",
       "      <th>carat</th>\n",
       "      <td>0.23</td>\n",
       "    </tr>\n",
       "    <tr>\n",
       "      <th>cut</th>\n",
       "      <td>Ideal</td>\n",
       "    </tr>\n",
       "    <tr>\n",
       "      <th>color</th>\n",
       "      <td>E</td>\n",
       "    </tr>\n",
       "    <tr>\n",
       "      <th>clarity</th>\n",
       "      <td>SI2</td>\n",
       "    </tr>\n",
       "    <tr>\n",
       "      <th>depth</th>\n",
       "      <td>61.5</td>\n",
       "    </tr>\n",
       "    <tr>\n",
       "      <th>table</th>\n",
       "      <td>55.0</td>\n",
       "    </tr>\n",
       "    <tr>\n",
       "      <th>price</th>\n",
       "      <td>326</td>\n",
       "    </tr>\n",
       "    <tr>\n",
       "      <th>x</th>\n",
       "      <td>3.95</td>\n",
       "    </tr>\n",
       "    <tr>\n",
       "      <th>y</th>\n",
       "      <td>3.98</td>\n",
       "    </tr>\n",
       "    <tr>\n",
       "      <th>z</th>\n",
       "      <td>2.43</td>\n",
       "    </tr>\n",
       "  </tbody>\n",
       "</table>\n",
       "</div>"
      ],
      "text/plain": [
       "             0\n",
       "carat     0.23\n",
       "cut      Ideal\n",
       "color        E\n",
       "clarity    SI2\n",
       "depth     61.5\n",
       "table     55.0\n",
       "price      326\n",
       "x         3.95\n",
       "y         3.98\n",
       "z         2.43"
      ]
     },
     "execution_count": 4,
     "metadata": {},
     "output_type": "execute_result"
    }
   ],
   "source": [
    "df.head(1).T"
   ]
  },
  {
   "cell_type": "markdown",
   "id": "da24ba9f",
   "metadata": {},
   "source": [
    "## 3 EDA"
   ]
  },
  {
   "cell_type": "markdown",
   "id": "871e3911",
   "metadata": {},
   "source": [
    "### 3.1 carat"
   ]
  },
  {
   "cell_type": "code",
   "execution_count": 5,
   "id": "8d18d266",
   "metadata": {},
   "outputs": [
    {
     "data": {
      "text/plain": [
       "0        0.23\n",
       "1        0.21\n",
       "2        0.23\n",
       "3        0.29\n",
       "4        0.31\n",
       "         ... \n",
       "53935    0.72\n",
       "53936    0.72\n",
       "53937    0.70\n",
       "53938    0.86\n",
       "53939    0.75\n",
       "Name: carat, Length: 53940, dtype: float64"
      ]
     },
     "execution_count": 5,
     "metadata": {},
     "output_type": "execute_result"
    }
   ],
   "source": [
    "#df.info()\n",
    "df['carat']"
   ]
  },
  {
   "cell_type": "code",
   "execution_count": 6,
   "id": "e692aaba",
   "metadata": {},
   "outputs": [
    {
     "data": {
      "text/plain": [
       "0"
      ]
     },
     "execution_count": 6,
     "metadata": {},
     "output_type": "execute_result"
    }
   ],
   "source": [
    "df['carat'].isna().sum()"
   ]
  },
  {
   "cell_type": "markdown",
   "id": "7efa4598",
   "metadata": {},
   "source": [
    "### 3.2 cut "
   ]
  },
  {
   "cell_type": "code",
   "execution_count": 7,
   "id": "f6cc8135",
   "metadata": {},
   "outputs": [
    {
     "data": {
      "text/plain": [
       "0            Ideal\n",
       "1          Premium\n",
       "2             Good\n",
       "3          Premium\n",
       "4             Good\n",
       "           ...    \n",
       "53935        Ideal\n",
       "53936         Good\n",
       "53937    Very Good\n",
       "53938      Premium\n",
       "53939        Ideal\n",
       "Name: cut, Length: 53940, dtype: object"
      ]
     },
     "execution_count": 7,
     "metadata": {},
     "output_type": "execute_result"
    }
   ],
   "source": [
    "#df.info()\n",
    "df['cut']"
   ]
  },
  {
   "cell_type": "code",
   "execution_count": 8,
   "id": "0778dfbc",
   "metadata": {},
   "outputs": [
    {
     "data": {
      "text/plain": [
       "Ideal        21551\n",
       "Premium      13791\n",
       "Very Good    12082\n",
       "Good          4906\n",
       "Fair          1610\n",
       "Name: cut, dtype: int64"
      ]
     },
     "execution_count": 8,
     "metadata": {},
     "output_type": "execute_result"
    }
   ],
   "source": [
    "df['cut'].value_counts()"
   ]
  },
  {
   "cell_type": "code",
   "execution_count": 9,
   "id": "27bf53db",
   "metadata": {},
   "outputs": [
    {
     "data": {
      "text/plain": [
       "{'Ideal': 21551,\n",
       " 'Premium': 13791,\n",
       " 'Very Good': 12082,\n",
       " 'Good': 4906,\n",
       " 'Fair': 1610}"
      ]
     },
     "execution_count": 9,
     "metadata": {},
     "output_type": "execute_result"
    }
   ],
   "source": [
    "df['cut'].value_counts().to_dict()"
   ]
  },
  {
   "cell_type": "code",
   "execution_count": 10,
   "id": "faa51827",
   "metadata": {},
   "outputs": [],
   "source": [
    "df['cut']=df['cut'].replace({'Ideal': 1,\n",
    " 'Premium': 2,\n",
    " 'Very Good': 3,\n",
    " 'Good': 4,\n",
    " 'Fair': 5})"
   ]
  },
  {
   "cell_type": "code",
   "execution_count": 11,
   "id": "44168293",
   "metadata": {},
   "outputs": [
    {
     "data": {
      "text/plain": [
       "0        1\n",
       "1        2\n",
       "2        4\n",
       "3        2\n",
       "4        4\n",
       "        ..\n",
       "53935    1\n",
       "53936    4\n",
       "53937    3\n",
       "53938    2\n",
       "53939    1\n",
       "Name: cut, Length: 53940, dtype: int64"
      ]
     },
     "execution_count": 11,
     "metadata": {},
     "output_type": "execute_result"
    }
   ],
   "source": [
    "df['cut']"
   ]
  },
  {
   "cell_type": "code",
   "execution_count": 12,
   "id": "46e45fb7",
   "metadata": {},
   "outputs": [],
   "source": [
    "cut_lables={'Ideal': 1,\n",
    " 'Premium': 2,\n",
    " 'Very Good': 3,\n",
    " 'Good': 4,\n",
    " 'Fair': 5}"
   ]
  },
  {
   "cell_type": "markdown",
   "id": "0d33ee66",
   "metadata": {},
   "source": [
    "### 3.3 color "
   ]
  },
  {
   "cell_type": "code",
   "execution_count": 13,
   "id": "4b4cfc75",
   "metadata": {},
   "outputs": [
    {
     "data": {
      "text/plain": [
       "G    11292\n",
       "E     9797\n",
       "F     9542\n",
       "H     8304\n",
       "D     6775\n",
       "I     5422\n",
       "J     2808\n",
       "Name: color, dtype: int64"
      ]
     },
     "execution_count": 13,
     "metadata": {},
     "output_type": "execute_result"
    }
   ],
   "source": [
    "#df.info()\n",
    "df['color'].value_counts()"
   ]
  },
  {
   "cell_type": "code",
   "execution_count": 14,
   "id": "712cacae",
   "metadata": {},
   "outputs": [
    {
     "data": {
      "text/html": [
       "<div>\n",
       "<style scoped>\n",
       "    .dataframe tbody tr th:only-of-type {\n",
       "        vertical-align: middle;\n",
       "    }\n",
       "\n",
       "    .dataframe tbody tr th {\n",
       "        vertical-align: top;\n",
       "    }\n",
       "\n",
       "    .dataframe thead th {\n",
       "        text-align: right;\n",
       "    }\n",
       "</style>\n",
       "<table border=\"1\" class=\"dataframe\">\n",
       "  <thead>\n",
       "    <tr style=\"text-align: right;\">\n",
       "      <th></th>\n",
       "      <th>carat</th>\n",
       "      <th>cut</th>\n",
       "      <th>clarity</th>\n",
       "      <th>depth</th>\n",
       "      <th>table</th>\n",
       "      <th>price</th>\n",
       "      <th>x</th>\n",
       "      <th>y</th>\n",
       "      <th>z</th>\n",
       "      <th>color_D</th>\n",
       "      <th>color_E</th>\n",
       "      <th>color_F</th>\n",
       "      <th>color_G</th>\n",
       "      <th>color_H</th>\n",
       "      <th>color_I</th>\n",
       "      <th>color_J</th>\n",
       "    </tr>\n",
       "  </thead>\n",
       "  <tbody>\n",
       "    <tr>\n",
       "      <th>0</th>\n",
       "      <td>0.23</td>\n",
       "      <td>1</td>\n",
       "      <td>SI2</td>\n",
       "      <td>61.5</td>\n",
       "      <td>55.0</td>\n",
       "      <td>326</td>\n",
       "      <td>3.95</td>\n",
       "      <td>3.98</td>\n",
       "      <td>2.43</td>\n",
       "      <td>0</td>\n",
       "      <td>1</td>\n",
       "      <td>0</td>\n",
       "      <td>0</td>\n",
       "      <td>0</td>\n",
       "      <td>0</td>\n",
       "      <td>0</td>\n",
       "    </tr>\n",
       "    <tr>\n",
       "      <th>1</th>\n",
       "      <td>0.21</td>\n",
       "      <td>2</td>\n",
       "      <td>SI1</td>\n",
       "      <td>59.8</td>\n",
       "      <td>61.0</td>\n",
       "      <td>326</td>\n",
       "      <td>3.89</td>\n",
       "      <td>3.84</td>\n",
       "      <td>2.31</td>\n",
       "      <td>0</td>\n",
       "      <td>1</td>\n",
       "      <td>0</td>\n",
       "      <td>0</td>\n",
       "      <td>0</td>\n",
       "      <td>0</td>\n",
       "      <td>0</td>\n",
       "    </tr>\n",
       "    <tr>\n",
       "      <th>2</th>\n",
       "      <td>0.23</td>\n",
       "      <td>4</td>\n",
       "      <td>VS1</td>\n",
       "      <td>56.9</td>\n",
       "      <td>65.0</td>\n",
       "      <td>327</td>\n",
       "      <td>4.05</td>\n",
       "      <td>4.07</td>\n",
       "      <td>2.31</td>\n",
       "      <td>0</td>\n",
       "      <td>1</td>\n",
       "      <td>0</td>\n",
       "      <td>0</td>\n",
       "      <td>0</td>\n",
       "      <td>0</td>\n",
       "      <td>0</td>\n",
       "    </tr>\n",
       "    <tr>\n",
       "      <th>3</th>\n",
       "      <td>0.29</td>\n",
       "      <td>2</td>\n",
       "      <td>VS2</td>\n",
       "      <td>62.4</td>\n",
       "      <td>58.0</td>\n",
       "      <td>334</td>\n",
       "      <td>4.20</td>\n",
       "      <td>4.23</td>\n",
       "      <td>2.63</td>\n",
       "      <td>0</td>\n",
       "      <td>0</td>\n",
       "      <td>0</td>\n",
       "      <td>0</td>\n",
       "      <td>0</td>\n",
       "      <td>1</td>\n",
       "      <td>0</td>\n",
       "    </tr>\n",
       "    <tr>\n",
       "      <th>4</th>\n",
       "      <td>0.31</td>\n",
       "      <td>4</td>\n",
       "      <td>SI2</td>\n",
       "      <td>63.3</td>\n",
       "      <td>58.0</td>\n",
       "      <td>335</td>\n",
       "      <td>4.34</td>\n",
       "      <td>4.35</td>\n",
       "      <td>2.75</td>\n",
       "      <td>0</td>\n",
       "      <td>0</td>\n",
       "      <td>0</td>\n",
       "      <td>0</td>\n",
       "      <td>0</td>\n",
       "      <td>0</td>\n",
       "      <td>1</td>\n",
       "    </tr>\n",
       "    <tr>\n",
       "      <th>...</th>\n",
       "      <td>...</td>\n",
       "      <td>...</td>\n",
       "      <td>...</td>\n",
       "      <td>...</td>\n",
       "      <td>...</td>\n",
       "      <td>...</td>\n",
       "      <td>...</td>\n",
       "      <td>...</td>\n",
       "      <td>...</td>\n",
       "      <td>...</td>\n",
       "      <td>...</td>\n",
       "      <td>...</td>\n",
       "      <td>...</td>\n",
       "      <td>...</td>\n",
       "      <td>...</td>\n",
       "      <td>...</td>\n",
       "    </tr>\n",
       "    <tr>\n",
       "      <th>53935</th>\n",
       "      <td>0.72</td>\n",
       "      <td>1</td>\n",
       "      <td>SI1</td>\n",
       "      <td>60.8</td>\n",
       "      <td>57.0</td>\n",
       "      <td>2757</td>\n",
       "      <td>5.75</td>\n",
       "      <td>5.76</td>\n",
       "      <td>3.50</td>\n",
       "      <td>1</td>\n",
       "      <td>0</td>\n",
       "      <td>0</td>\n",
       "      <td>0</td>\n",
       "      <td>0</td>\n",
       "      <td>0</td>\n",
       "      <td>0</td>\n",
       "    </tr>\n",
       "    <tr>\n",
       "      <th>53936</th>\n",
       "      <td>0.72</td>\n",
       "      <td>4</td>\n",
       "      <td>SI1</td>\n",
       "      <td>63.1</td>\n",
       "      <td>55.0</td>\n",
       "      <td>2757</td>\n",
       "      <td>5.69</td>\n",
       "      <td>5.75</td>\n",
       "      <td>3.61</td>\n",
       "      <td>1</td>\n",
       "      <td>0</td>\n",
       "      <td>0</td>\n",
       "      <td>0</td>\n",
       "      <td>0</td>\n",
       "      <td>0</td>\n",
       "      <td>0</td>\n",
       "    </tr>\n",
       "    <tr>\n",
       "      <th>53937</th>\n",
       "      <td>0.70</td>\n",
       "      <td>3</td>\n",
       "      <td>SI1</td>\n",
       "      <td>62.8</td>\n",
       "      <td>60.0</td>\n",
       "      <td>2757</td>\n",
       "      <td>5.66</td>\n",
       "      <td>5.68</td>\n",
       "      <td>3.56</td>\n",
       "      <td>1</td>\n",
       "      <td>0</td>\n",
       "      <td>0</td>\n",
       "      <td>0</td>\n",
       "      <td>0</td>\n",
       "      <td>0</td>\n",
       "      <td>0</td>\n",
       "    </tr>\n",
       "    <tr>\n",
       "      <th>53938</th>\n",
       "      <td>0.86</td>\n",
       "      <td>2</td>\n",
       "      <td>SI2</td>\n",
       "      <td>61.0</td>\n",
       "      <td>58.0</td>\n",
       "      <td>2757</td>\n",
       "      <td>6.15</td>\n",
       "      <td>6.12</td>\n",
       "      <td>3.74</td>\n",
       "      <td>0</td>\n",
       "      <td>0</td>\n",
       "      <td>0</td>\n",
       "      <td>0</td>\n",
       "      <td>1</td>\n",
       "      <td>0</td>\n",
       "      <td>0</td>\n",
       "    </tr>\n",
       "    <tr>\n",
       "      <th>53939</th>\n",
       "      <td>0.75</td>\n",
       "      <td>1</td>\n",
       "      <td>SI2</td>\n",
       "      <td>62.2</td>\n",
       "      <td>55.0</td>\n",
       "      <td>2757</td>\n",
       "      <td>5.83</td>\n",
       "      <td>5.87</td>\n",
       "      <td>3.64</td>\n",
       "      <td>1</td>\n",
       "      <td>0</td>\n",
       "      <td>0</td>\n",
       "      <td>0</td>\n",
       "      <td>0</td>\n",
       "      <td>0</td>\n",
       "      <td>0</td>\n",
       "    </tr>\n",
       "  </tbody>\n",
       "</table>\n",
       "<p>53940 rows × 16 columns</p>\n",
       "</div>"
      ],
      "text/plain": [
       "       carat  cut clarity  depth  table  price     x     y     z  color_D  \\\n",
       "0       0.23    1     SI2   61.5   55.0    326  3.95  3.98  2.43        0   \n",
       "1       0.21    2     SI1   59.8   61.0    326  3.89  3.84  2.31        0   \n",
       "2       0.23    4     VS1   56.9   65.0    327  4.05  4.07  2.31        0   \n",
       "3       0.29    2     VS2   62.4   58.0    334  4.20  4.23  2.63        0   \n",
       "4       0.31    4     SI2   63.3   58.0    335  4.34  4.35  2.75        0   \n",
       "...      ...  ...     ...    ...    ...    ...   ...   ...   ...      ...   \n",
       "53935   0.72    1     SI1   60.8   57.0   2757  5.75  5.76  3.50        1   \n",
       "53936   0.72    4     SI1   63.1   55.0   2757  5.69  5.75  3.61        1   \n",
       "53937   0.70    3     SI1   62.8   60.0   2757  5.66  5.68  3.56        1   \n",
       "53938   0.86    2     SI2   61.0   58.0   2757  6.15  6.12  3.74        0   \n",
       "53939   0.75    1     SI2   62.2   55.0   2757  5.83  5.87  3.64        1   \n",
       "\n",
       "       color_E  color_F  color_G  color_H  color_I  color_J  \n",
       "0            1        0        0        0        0        0  \n",
       "1            1        0        0        0        0        0  \n",
       "2            1        0        0        0        0        0  \n",
       "3            0        0        0        0        1        0  \n",
       "4            0        0        0        0        0        1  \n",
       "...        ...      ...      ...      ...      ...      ...  \n",
       "53935        0        0        0        0        0        0  \n",
       "53936        0        0        0        0        0        0  \n",
       "53937        0        0        0        0        0        0  \n",
       "53938        0        0        0        1        0        0  \n",
       "53939        0        0        0        0        0        0  \n",
       "\n",
       "[53940 rows x 16 columns]"
      ]
     },
     "execution_count": 14,
     "metadata": {},
     "output_type": "execute_result"
    }
   ],
   "source": [
    "df=pd.get_dummies(df,columns=['color'])\n",
    "df"
   ]
  },
  {
   "cell_type": "code",
   "execution_count": 15,
   "id": "0b898f94",
   "metadata": {},
   "outputs": [],
   "source": [
    "#df.info()"
   ]
  },
  {
   "cell_type": "markdown",
   "id": "86f4a68c",
   "metadata": {},
   "source": [
    "### 3.4 clarity"
   ]
  },
  {
   "cell_type": "code",
   "execution_count": 16,
   "id": "5c85bed8",
   "metadata": {},
   "outputs": [
    {
     "data": {
      "text/plain": [
       "SI1     13065\n",
       "VS2     12258\n",
       "SI2      9194\n",
       "VS1      8171\n",
       "VVS2     5066\n",
       "VVS1     3655\n",
       "IF       1790\n",
       "I1        741\n",
       "Name: clarity, dtype: int64"
      ]
     },
     "execution_count": 16,
     "metadata": {},
     "output_type": "execute_result"
    }
   ],
   "source": [
    "df['clarity'].value_counts()"
   ]
  },
  {
   "cell_type": "code",
   "execution_count": 17,
   "id": "b47ef6bc",
   "metadata": {},
   "outputs": [
    {
     "data": {
      "text/plain": [
       "{'SI1': 13065,\n",
       " 'VS2': 12258,\n",
       " 'SI2': 9194,\n",
       " 'VS1': 8171,\n",
       " 'VVS2': 5066,\n",
       " 'VVS1': 3655,\n",
       " 'IF': 1790,\n",
       " 'I1': 741}"
      ]
     },
     "execution_count": 17,
     "metadata": {},
     "output_type": "execute_result"
    }
   ],
   "source": [
    "df['clarity'].value_counts().to_dict()"
   ]
  },
  {
   "cell_type": "code",
   "execution_count": 18,
   "id": "6faf825f",
   "metadata": {},
   "outputs": [],
   "source": [
    "df['clarity']=df['clarity'].replace({'SI1': 1,\n",
    " 'VS2': 2,\n",
    " 'SI2': 3,\n",
    " 'VS1': 4,\n",
    " 'VVS2': 5,\n",
    " 'VVS1': 6,\n",
    " 'IF': 7,\n",
    " 'I1': 8})"
   ]
  },
  {
   "cell_type": "code",
   "execution_count": 19,
   "id": "38878907",
   "metadata": {},
   "outputs": [],
   "source": [
    "clarity_lables={'SI1': 1,\n",
    " 'VS2': 2,\n",
    " 'SI2': 3,\n",
    " 'VS1': 4,\n",
    " 'VVS2': 5,\n",
    " 'VVS1': 6,\n",
    " 'IF': 7,\n",
    " 'I1': 8}"
   ]
  },
  {
   "cell_type": "markdown",
   "id": "22c4dc86",
   "metadata": {},
   "source": [
    "### 3.5depth"
   ]
  },
  {
   "cell_type": "code",
   "execution_count": 20,
   "id": "e1ce7dab",
   "metadata": {},
   "outputs": [
    {
     "data": {
      "text/plain": [
       "0"
      ]
     },
     "execution_count": 20,
     "metadata": {},
     "output_type": "execute_result"
    }
   ],
   "source": [
    "#df.info()\n",
    "df['depth'].isna().sum()"
   ]
  },
  {
   "cell_type": "markdown",
   "id": "610b5eb2",
   "metadata": {},
   "source": [
    "### 3.6 tables"
   ]
  },
  {
   "cell_type": "code",
   "execution_count": 21,
   "id": "50d60613",
   "metadata": {},
   "outputs": [
    {
     "data": {
      "text/plain": [
       "0"
      ]
     },
     "execution_count": 21,
     "metadata": {},
     "output_type": "execute_result"
    }
   ],
   "source": [
    "df['table'].isna().sum()"
   ]
  },
  {
   "cell_type": "markdown",
   "id": "96bcbd4a",
   "metadata": {},
   "source": [
    "### 3.7 price"
   ]
  },
  {
   "cell_type": "code",
   "execution_count": 22,
   "id": "070f147c",
   "metadata": {},
   "outputs": [
    {
     "data": {
      "text/plain": [
       "0"
      ]
     },
     "execution_count": 22,
     "metadata": {},
     "output_type": "execute_result"
    }
   ],
   "source": [
    "df['price'].isnull().sum()"
   ]
  },
  {
   "cell_type": "code",
   "execution_count": 23,
   "id": "7a106375",
   "metadata": {},
   "outputs": [
    {
     "data": {
      "text/plain": [
       "0"
      ]
     },
     "execution_count": 23,
     "metadata": {},
     "output_type": "execute_result"
    }
   ],
   "source": [
    "df['x'].isna().sum()"
   ]
  },
  {
   "cell_type": "code",
   "execution_count": 24,
   "id": "0b59adba",
   "metadata": {},
   "outputs": [
    {
     "data": {
      "text/plain": [
       "0"
      ]
     },
     "execution_count": 24,
     "metadata": {},
     "output_type": "execute_result"
    }
   ],
   "source": [
    "df['y'].isnull().sum()"
   ]
  },
  {
   "cell_type": "code",
   "execution_count": 25,
   "id": "5dd8b242",
   "metadata": {},
   "outputs": [
    {
     "data": {
      "text/plain": [
       "0"
      ]
     },
     "execution_count": 25,
     "metadata": {},
     "output_type": "execute_result"
    }
   ],
   "source": [
    "df['z'].isna().sum()"
   ]
  },
  {
   "cell_type": "markdown",
   "id": "ef91dce0",
   "metadata": {},
   "source": [
    "## 4 feature engineering"
   ]
  },
  {
   "cell_type": "markdown",
   "id": "bddcf717",
   "metadata": {},
   "source": [
    "### 1.linearity"
   ]
  },
  {
   "cell_type": "code",
   "execution_count": 26,
   "id": "666bdd0f",
   "metadata": {},
   "outputs": [
    {
     "data": {
      "text/html": [
       "<div>\n",
       "<style scoped>\n",
       "    .dataframe tbody tr th:only-of-type {\n",
       "        vertical-align: middle;\n",
       "    }\n",
       "\n",
       "    .dataframe tbody tr th {\n",
       "        vertical-align: top;\n",
       "    }\n",
       "\n",
       "    .dataframe thead th {\n",
       "        text-align: right;\n",
       "    }\n",
       "</style>\n",
       "<table border=\"1\" class=\"dataframe\">\n",
       "  <thead>\n",
       "    <tr style=\"text-align: right;\">\n",
       "      <th></th>\n",
       "      <th>carat</th>\n",
       "      <th>cut</th>\n",
       "      <th>clarity</th>\n",
       "      <th>depth</th>\n",
       "      <th>table</th>\n",
       "      <th>price</th>\n",
       "      <th>x</th>\n",
       "      <th>y</th>\n",
       "      <th>z</th>\n",
       "      <th>color_D</th>\n",
       "      <th>color_E</th>\n",
       "      <th>color_F</th>\n",
       "      <th>color_G</th>\n",
       "      <th>color_H</th>\n",
       "      <th>color_I</th>\n",
       "      <th>color_J</th>\n",
       "    </tr>\n",
       "  </thead>\n",
       "  <tbody>\n",
       "    <tr>\n",
       "      <th>carat</th>\n",
       "      <td>1.000000</td>\n",
       "      <td>0.134967</td>\n",
       "      <td>-0.155192</td>\n",
       "      <td>0.028224</td>\n",
       "      <td>0.181618</td>\n",
       "      <td>0.921591</td>\n",
       "      <td>0.975094</td>\n",
       "      <td>0.951722</td>\n",
       "      <td>0.953387</td>\n",
       "      <td>-0.112057</td>\n",
       "      <td>-0.139215</td>\n",
       "      <td>-0.060052</td>\n",
       "      <td>-0.029038</td>\n",
       "      <td>0.102465</td>\n",
       "      <td>0.161494</td>\n",
       "      <td>0.180054</td>\n",
       "    </tr>\n",
       "    <tr>\n",
       "      <th>cut</th>\n",
       "      <td>0.134967</td>\n",
       "      <td>1.000000</td>\n",
       "      <td>-0.092976</td>\n",
       "      <td>0.218055</td>\n",
       "      <td>0.433405</td>\n",
       "      <td>0.053491</td>\n",
       "      <td>0.125565</td>\n",
       "      <td>0.121462</td>\n",
       "      <td>0.149323</td>\n",
       "      <td>-0.007903</td>\n",
       "      <td>0.004110</td>\n",
       "      <td>0.007697</td>\n",
       "      <td>-0.040155</td>\n",
       "      <td>0.010380</td>\n",
       "      <td>0.008836</td>\n",
       "      <td>0.036153</td>\n",
       "    </tr>\n",
       "    <tr>\n",
       "      <th>clarity</th>\n",
       "      <td>-0.155192</td>\n",
       "      <td>-0.092976</td>\n",
       "      <td>1.000000</td>\n",
       "      <td>-0.024337</td>\n",
       "      <td>-0.094350</td>\n",
       "      <td>-0.083125</td>\n",
       "      <td>-0.182734</td>\n",
       "      <td>-0.176540</td>\n",
       "      <td>-0.179684</td>\n",
       "      <td>-0.094134</td>\n",
       "      <td>-0.033996</td>\n",
       "      <td>0.027113</td>\n",
       "      <td>0.123186</td>\n",
       "      <td>-0.009055</td>\n",
       "      <td>-0.013890</td>\n",
       "      <td>-0.039235</td>\n",
       "    </tr>\n",
       "    <tr>\n",
       "      <th>depth</th>\n",
       "      <td>0.028224</td>\n",
       "      <td>0.218055</td>\n",
       "      <td>-0.024337</td>\n",
       "      <td>1.000000</td>\n",
       "      <td>-0.295779</td>\n",
       "      <td>-0.010647</td>\n",
       "      <td>-0.025289</td>\n",
       "      <td>-0.029341</td>\n",
       "      <td>0.094924</td>\n",
       "      <td>-0.013566</td>\n",
       "      <td>-0.028713</td>\n",
       "      <td>-0.017741</td>\n",
       "      <td>0.002768</td>\n",
       "      <td>0.026037</td>\n",
       "      <td>0.022630</td>\n",
       "      <td>0.022543</td>\n",
       "    </tr>\n",
       "    <tr>\n",
       "      <th>table</th>\n",
       "      <td>0.181618</td>\n",
       "      <td>0.433405</td>\n",
       "      <td>-0.094350</td>\n",
       "      <td>-0.295779</td>\n",
       "      <td>1.000000</td>\n",
       "      <td>0.127134</td>\n",
       "      <td>0.195344</td>\n",
       "      <td>0.183760</td>\n",
       "      <td>0.150929</td>\n",
       "      <td>-0.008921</td>\n",
       "      <td>0.007172</td>\n",
       "      <td>-0.004906</td>\n",
       "      <td>-0.038815</td>\n",
       "      <td>0.011574</td>\n",
       "      <td>0.017967</td>\n",
       "      <td>0.037253</td>\n",
       "    </tr>\n",
       "    <tr>\n",
       "      <th>price</th>\n",
       "      <td>0.921591</td>\n",
       "      <td>0.053491</td>\n",
       "      <td>-0.083125</td>\n",
       "      <td>-0.010647</td>\n",
       "      <td>0.127134</td>\n",
       "      <td>1.000000</td>\n",
       "      <td>0.884435</td>\n",
       "      <td>0.865421</td>\n",
       "      <td>0.861249</td>\n",
       "      <td>-0.072473</td>\n",
       "      <td>-0.101089</td>\n",
       "      <td>-0.024161</td>\n",
       "      <td>0.008556</td>\n",
       "      <td>0.059223</td>\n",
       "      <td>0.097125</td>\n",
       "      <td>0.081710</td>\n",
       "    </tr>\n",
       "    <tr>\n",
       "      <th>x</th>\n",
       "      <td>0.975094</td>\n",
       "      <td>0.125565</td>\n",
       "      <td>-0.182734</td>\n",
       "      <td>-0.025289</td>\n",
       "      <td>0.195344</td>\n",
       "      <td>0.884435</td>\n",
       "      <td>1.000000</td>\n",
       "      <td>0.974701</td>\n",
       "      <td>0.970772</td>\n",
       "      <td>-0.106127</td>\n",
       "      <td>-0.134213</td>\n",
       "      <td>-0.048021</td>\n",
       "      <td>-0.024593</td>\n",
       "      <td>0.095896</td>\n",
       "      <td>0.146522</td>\n",
       "      <td>0.164658</td>\n",
       "    </tr>\n",
       "    <tr>\n",
       "      <th>y</th>\n",
       "      <td>0.951722</td>\n",
       "      <td>0.121462</td>\n",
       "      <td>-0.176540</td>\n",
       "      <td>-0.029341</td>\n",
       "      <td>0.183760</td>\n",
       "      <td>0.865421</td>\n",
       "      <td>0.974701</td>\n",
       "      <td>1.000000</td>\n",
       "      <td>0.952006</td>\n",
       "      <td>-0.103999</td>\n",
       "      <td>-0.130136</td>\n",
       "      <td>-0.046707</td>\n",
       "      <td>-0.024479</td>\n",
       "      <td>0.093480</td>\n",
       "      <td>0.142895</td>\n",
       "      <td>0.160776</td>\n",
       "    </tr>\n",
       "    <tr>\n",
       "      <th>z</th>\n",
       "      <td>0.953387</td>\n",
       "      <td>0.149323</td>\n",
       "      <td>-0.179684</td>\n",
       "      <td>0.094924</td>\n",
       "      <td>0.150929</td>\n",
       "      <td>0.861249</td>\n",
       "      <td>0.970772</td>\n",
       "      <td>0.952006</td>\n",
       "      <td>1.000000</td>\n",
       "      <td>-0.105216</td>\n",
       "      <td>-0.132210</td>\n",
       "      <td>-0.048803</td>\n",
       "      <td>-0.024582</td>\n",
       "      <td>0.095041</td>\n",
       "      <td>0.145276</td>\n",
       "      <td>0.164217</td>\n",
       "    </tr>\n",
       "    <tr>\n",
       "      <th>color_D</th>\n",
       "      <td>-0.112057</td>\n",
       "      <td>-0.007903</td>\n",
       "      <td>-0.094134</td>\n",
       "      <td>-0.013566</td>\n",
       "      <td>-0.008921</td>\n",
       "      <td>-0.072473</td>\n",
       "      <td>-0.106127</td>\n",
       "      <td>-0.103999</td>\n",
       "      <td>-0.105216</td>\n",
       "      <td>1.000000</td>\n",
       "      <td>-0.178550</td>\n",
       "      <td>-0.175704</td>\n",
       "      <td>-0.195021</td>\n",
       "      <td>-0.161672</td>\n",
       "      <td>-0.126699</td>\n",
       "      <td>-0.088817</td>\n",
       "    </tr>\n",
       "    <tr>\n",
       "      <th>color_E</th>\n",
       "      <td>-0.139215</td>\n",
       "      <td>0.004110</td>\n",
       "      <td>-0.033996</td>\n",
       "      <td>-0.028713</td>\n",
       "      <td>0.007172</td>\n",
       "      <td>-0.101089</td>\n",
       "      <td>-0.134213</td>\n",
       "      <td>-0.130136</td>\n",
       "      <td>-0.132210</td>\n",
       "      <td>-0.178550</td>\n",
       "      <td>1.000000</td>\n",
       "      <td>-0.218401</td>\n",
       "      <td>-0.242411</td>\n",
       "      <td>-0.200958</td>\n",
       "      <td>-0.157487</td>\n",
       "      <td>-0.110400</td>\n",
       "    </tr>\n",
       "    <tr>\n",
       "      <th>color_F</th>\n",
       "      <td>-0.060052</td>\n",
       "      <td>0.007697</td>\n",
       "      <td>0.027113</td>\n",
       "      <td>-0.017741</td>\n",
       "      <td>-0.004906</td>\n",
       "      <td>-0.024161</td>\n",
       "      <td>-0.048021</td>\n",
       "      <td>-0.046707</td>\n",
       "      <td>-0.048803</td>\n",
       "      <td>-0.175704</td>\n",
       "      <td>-0.218401</td>\n",
       "      <td>1.000000</td>\n",
       "      <td>-0.238547</td>\n",
       "      <td>-0.197755</td>\n",
       "      <td>-0.154977</td>\n",
       "      <td>-0.108640</td>\n",
       "    </tr>\n",
       "    <tr>\n",
       "      <th>color_G</th>\n",
       "      <td>-0.029038</td>\n",
       "      <td>-0.040155</td>\n",
       "      <td>0.123186</td>\n",
       "      <td>0.002768</td>\n",
       "      <td>-0.038815</td>\n",
       "      <td>0.008556</td>\n",
       "      <td>-0.024593</td>\n",
       "      <td>-0.024479</td>\n",
       "      <td>-0.024582</td>\n",
       "      <td>-0.195021</td>\n",
       "      <td>-0.242411</td>\n",
       "      <td>-0.238547</td>\n",
       "      <td>1.000000</td>\n",
       "      <td>-0.219496</td>\n",
       "      <td>-0.172014</td>\n",
       "      <td>-0.120584</td>\n",
       "    </tr>\n",
       "    <tr>\n",
       "      <th>color_H</th>\n",
       "      <td>0.102465</td>\n",
       "      <td>0.010380</td>\n",
       "      <td>-0.009055</td>\n",
       "      <td>0.026037</td>\n",
       "      <td>0.011574</td>\n",
       "      <td>0.059223</td>\n",
       "      <td>0.095896</td>\n",
       "      <td>0.093480</td>\n",
       "      <td>0.095041</td>\n",
       "      <td>-0.161672</td>\n",
       "      <td>-0.200958</td>\n",
       "      <td>-0.197755</td>\n",
       "      <td>-0.219496</td>\n",
       "      <td>1.000000</td>\n",
       "      <td>-0.142600</td>\n",
       "      <td>-0.099964</td>\n",
       "    </tr>\n",
       "    <tr>\n",
       "      <th>color_I</th>\n",
       "      <td>0.161494</td>\n",
       "      <td>0.008836</td>\n",
       "      <td>-0.013890</td>\n",
       "      <td>0.022630</td>\n",
       "      <td>0.017967</td>\n",
       "      <td>0.097125</td>\n",
       "      <td>0.146522</td>\n",
       "      <td>0.142895</td>\n",
       "      <td>0.145276</td>\n",
       "      <td>-0.126699</td>\n",
       "      <td>-0.157487</td>\n",
       "      <td>-0.154977</td>\n",
       "      <td>-0.172014</td>\n",
       "      <td>-0.142600</td>\n",
       "      <td>1.000000</td>\n",
       "      <td>-0.078339</td>\n",
       "    </tr>\n",
       "    <tr>\n",
       "      <th>color_J</th>\n",
       "      <td>0.180054</td>\n",
       "      <td>0.036153</td>\n",
       "      <td>-0.039235</td>\n",
       "      <td>0.022543</td>\n",
       "      <td>0.037253</td>\n",
       "      <td>0.081710</td>\n",
       "      <td>0.164658</td>\n",
       "      <td>0.160776</td>\n",
       "      <td>0.164217</td>\n",
       "      <td>-0.088817</td>\n",
       "      <td>-0.110400</td>\n",
       "      <td>-0.108640</td>\n",
       "      <td>-0.120584</td>\n",
       "      <td>-0.099964</td>\n",
       "      <td>-0.078339</td>\n",
       "      <td>1.000000</td>\n",
       "    </tr>\n",
       "  </tbody>\n",
       "</table>\n",
       "</div>"
      ],
      "text/plain": [
       "            carat       cut   clarity     depth     table     price         x  \\\n",
       "carat    1.000000  0.134967 -0.155192  0.028224  0.181618  0.921591  0.975094   \n",
       "cut      0.134967  1.000000 -0.092976  0.218055  0.433405  0.053491  0.125565   \n",
       "clarity -0.155192 -0.092976  1.000000 -0.024337 -0.094350 -0.083125 -0.182734   \n",
       "depth    0.028224  0.218055 -0.024337  1.000000 -0.295779 -0.010647 -0.025289   \n",
       "table    0.181618  0.433405 -0.094350 -0.295779  1.000000  0.127134  0.195344   \n",
       "price    0.921591  0.053491 -0.083125 -0.010647  0.127134  1.000000  0.884435   \n",
       "x        0.975094  0.125565 -0.182734 -0.025289  0.195344  0.884435  1.000000   \n",
       "y        0.951722  0.121462 -0.176540 -0.029341  0.183760  0.865421  0.974701   \n",
       "z        0.953387  0.149323 -0.179684  0.094924  0.150929  0.861249  0.970772   \n",
       "color_D -0.112057 -0.007903 -0.094134 -0.013566 -0.008921 -0.072473 -0.106127   \n",
       "color_E -0.139215  0.004110 -0.033996 -0.028713  0.007172 -0.101089 -0.134213   \n",
       "color_F -0.060052  0.007697  0.027113 -0.017741 -0.004906 -0.024161 -0.048021   \n",
       "color_G -0.029038 -0.040155  0.123186  0.002768 -0.038815  0.008556 -0.024593   \n",
       "color_H  0.102465  0.010380 -0.009055  0.026037  0.011574  0.059223  0.095896   \n",
       "color_I  0.161494  0.008836 -0.013890  0.022630  0.017967  0.097125  0.146522   \n",
       "color_J  0.180054  0.036153 -0.039235  0.022543  0.037253  0.081710  0.164658   \n",
       "\n",
       "                y         z   color_D   color_E   color_F   color_G   color_H  \\\n",
       "carat    0.951722  0.953387 -0.112057 -0.139215 -0.060052 -0.029038  0.102465   \n",
       "cut      0.121462  0.149323 -0.007903  0.004110  0.007697 -0.040155  0.010380   \n",
       "clarity -0.176540 -0.179684 -0.094134 -0.033996  0.027113  0.123186 -0.009055   \n",
       "depth   -0.029341  0.094924 -0.013566 -0.028713 -0.017741  0.002768  0.026037   \n",
       "table    0.183760  0.150929 -0.008921  0.007172 -0.004906 -0.038815  0.011574   \n",
       "price    0.865421  0.861249 -0.072473 -0.101089 -0.024161  0.008556  0.059223   \n",
       "x        0.974701  0.970772 -0.106127 -0.134213 -0.048021 -0.024593  0.095896   \n",
       "y        1.000000  0.952006 -0.103999 -0.130136 -0.046707 -0.024479  0.093480   \n",
       "z        0.952006  1.000000 -0.105216 -0.132210 -0.048803 -0.024582  0.095041   \n",
       "color_D -0.103999 -0.105216  1.000000 -0.178550 -0.175704 -0.195021 -0.161672   \n",
       "color_E -0.130136 -0.132210 -0.178550  1.000000 -0.218401 -0.242411 -0.200958   \n",
       "color_F -0.046707 -0.048803 -0.175704 -0.218401  1.000000 -0.238547 -0.197755   \n",
       "color_G -0.024479 -0.024582 -0.195021 -0.242411 -0.238547  1.000000 -0.219496   \n",
       "color_H  0.093480  0.095041 -0.161672 -0.200958 -0.197755 -0.219496  1.000000   \n",
       "color_I  0.142895  0.145276 -0.126699 -0.157487 -0.154977 -0.172014 -0.142600   \n",
       "color_J  0.160776  0.164217 -0.088817 -0.110400 -0.108640 -0.120584 -0.099964   \n",
       "\n",
       "          color_I   color_J  \n",
       "carat    0.161494  0.180054  \n",
       "cut      0.008836  0.036153  \n",
       "clarity -0.013890 -0.039235  \n",
       "depth    0.022630  0.022543  \n",
       "table    0.017967  0.037253  \n",
       "price    0.097125  0.081710  \n",
       "x        0.146522  0.164658  \n",
       "y        0.142895  0.160776  \n",
       "z        0.145276  0.164217  \n",
       "color_D -0.126699 -0.088817  \n",
       "color_E -0.157487 -0.110400  \n",
       "color_F -0.154977 -0.108640  \n",
       "color_G -0.172014 -0.120584  \n",
       "color_H -0.142600 -0.099964  \n",
       "color_I  1.000000 -0.078339  \n",
       "color_J -0.078339  1.000000  "
      ]
     },
     "execution_count": 26,
     "metadata": {},
     "output_type": "execute_result"
    }
   ],
   "source": [
    "df.corr()"
   ]
  },
  {
   "cell_type": "code",
   "execution_count": 27,
   "id": "3d499654",
   "metadata": {},
   "outputs": [
    {
     "data": {
      "text/plain": [
       "<Axes: >"
      ]
     },
     "execution_count": 27,
     "metadata": {},
     "output_type": "execute_result"
    },
    {
     "data": {
      "image/png": "[encoded data removed]",
      "text/plain": [
       "<Figure size 2000x1500 with 2 Axes>"
      ]
     },
     "metadata": {},
     "output_type": "display_data"
    }
   ],
   "source": [
    "plt.figure(figsize=(20,15))\n",
    "sns.heatmap(df.corr(),annot=True)\n"
   ]
  },
  {
   "cell_type": "code",
   "execution_count": 28,
   "id": "7c573f2d",
   "metadata": {},
   "outputs": [
    {
     "data": {
      "text/plain": [
       "<Axes: >"
      ]
     },
     "execution_count": 28,
     "metadata": {},
     "output_type": "execute_result"
    },
    {
     "data": {
      "image/png": "[encoded data removed]",
      "text/plain": [
       "<Figure size 640x480 with 2 Axes>"
      ]
     },
     "metadata": {},
     "output_type": "display_data"
    }
   ],
   "source": [
    "sns.heatmap(df.corr().iloc[:,[5]],annot=True)"
   ]
  },
  {
   "cell_type": "markdown",
   "id": "07a47c6d",
   "metadata": {},
   "source": [
    "### 2.vif"
   ]
  },
  {
   "cell_type": "code",
   "execution_count": 29,
   "id": "11e3f8cd",
   "metadata": {},
   "outputs": [],
   "source": [
    "X=df.drop(\"price\",axis=1)\n",
    "y=df['price']"
   ]
  },
  {
   "cell_type": "code",
   "execution_count": 30,
   "id": "b48be224",
   "metadata": {},
   "outputs": [
    {
     "data": {
      "text/plain": [
       "22.353184502858433"
      ]
     },
     "execution_count": 30,
     "metadata": {},
     "output_type": "execute_result"
    }
   ],
   "source": [
    "variance_inflation_factor(X.to_numpy(),0)"
   ]
  },
  {
   "cell_type": "code",
   "execution_count": 31,
   "id": "e9985737",
   "metadata": {},
   "outputs": [
    {
     "data": {
      "text/plain": [
       "56.90514171072851"
      ]
     },
     "execution_count": 31,
     "metadata": {},
     "output_type": "execute_result"
    }
   ],
   "source": [
    "variance_inflation_factor(X.to_numpy(),5)"
   ]
  },
  {
   "cell_type": "code",
   "execution_count": 32,
   "id": "9a034165",
   "metadata": {},
   "outputs": [
    {
     "data": {
      "text/plain": [
       "[22.353184502858433,\n",
       " 1.475735462746612,\n",
       " 1.0853580392680344,\n",
       " 1.71142490114558,\n",
       " 1.5784733844622116,\n",
       " 56.90514171072851,\n",
       " 20.46480414486301,\n",
       " 23.53955467842649,\n",
       " 767.8666982253812,\n",
       " 1109.8966199526074,\n",
       " 1082.1366203401476,\n",
       " 1281.5329860398463,\n",
       " 942.9820745105154,\n",
       " 615.5479440090055,\n",
       " 319.1709341744301]"
      ]
     },
     "execution_count": 32,
     "metadata": {},
     "output_type": "execute_result"
    }
   ],
   "source": [
    "vif_list=[variance_inflation_factor(X.to_numpy(),i) for i in range(X.shape[1])]\n",
    "vif_list"
   ]
  },
  {
   "cell_type": "markdown",
   "id": "b7834823",
   "metadata": {},
   "source": [
    "## 5 model training"
   ]
  },
  {
   "cell_type": "code",
   "execution_count": 33,
   "id": "483ecb12",
   "metadata": {},
   "outputs": [
    {
     "data": {
      "text/html": [
       "<div>\n",
       "<style scoped>\n",
       "    .dataframe tbody tr th:only-of-type {\n",
       "        vertical-align: middle;\n",
       "    }\n",
       "\n",
       "    .dataframe tbody tr th {\n",
       "        vertical-align: top;\n",
       "    }\n",
       "\n",
       "    .dataframe thead th {\n",
       "        text-align: right;\n",
       "    }\n",
       "</style>\n",
       "<table border=\"1\" class=\"dataframe\">\n",
       "  <thead>\n",
       "    <tr style=\"text-align: right;\">\n",
       "      <th></th>\n",
       "      <th>carat</th>\n",
       "      <th>cut</th>\n",
       "      <th>clarity</th>\n",
       "      <th>depth</th>\n",
       "      <th>table</th>\n",
       "      <th>x</th>\n",
       "      <th>y</th>\n",
       "      <th>z</th>\n",
       "      <th>color_D</th>\n",
       "      <th>color_E</th>\n",
       "      <th>color_F</th>\n",
       "      <th>color_G</th>\n",
       "      <th>color_H</th>\n",
       "      <th>color_I</th>\n",
       "      <th>color_J</th>\n",
       "    </tr>\n",
       "  </thead>\n",
       "  <tbody>\n",
       "    <tr>\n",
       "      <th>30006</th>\n",
       "      <td>0.43</td>\n",
       "      <td>3</td>\n",
       "      <td>3</td>\n",
       "      <td>62.7</td>\n",
       "      <td>55.0</td>\n",
       "      <td>4.83</td>\n",
       "      <td>4.87</td>\n",
       "      <td>3.04</td>\n",
       "      <td>0</td>\n",
       "      <td>1</td>\n",
       "      <td>0</td>\n",
       "      <td>0</td>\n",
       "      <td>0</td>\n",
       "      <td>0</td>\n",
       "      <td>0</td>\n",
       "    </tr>\n",
       "    <tr>\n",
       "      <th>21473</th>\n",
       "      <td>1.53</td>\n",
       "      <td>2</td>\n",
       "      <td>1</td>\n",
       "      <td>61.7</td>\n",
       "      <td>59.0</td>\n",
       "      <td>7.31</td>\n",
       "      <td>7.40</td>\n",
       "      <td>4.54</td>\n",
       "      <td>0</td>\n",
       "      <td>0</td>\n",
       "      <td>0</td>\n",
       "      <td>1</td>\n",
       "      <td>0</td>\n",
       "      <td>0</td>\n",
       "      <td>0</td>\n",
       "    </tr>\n",
       "    <tr>\n",
       "      <th>35218</th>\n",
       "      <td>0.41</td>\n",
       "      <td>4</td>\n",
       "      <td>6</td>\n",
       "      <td>62.6</td>\n",
       "      <td>62.0</td>\n",
       "      <td>4.70</td>\n",
       "      <td>4.76</td>\n",
       "      <td>2.96</td>\n",
       "      <td>0</td>\n",
       "      <td>0</td>\n",
       "      <td>0</td>\n",
       "      <td>0</td>\n",
       "      <td>1</td>\n",
       "      <td>0</td>\n",
       "      <td>0</td>\n",
       "    </tr>\n",
       "    <tr>\n",
       "      <th>15159</th>\n",
       "      <td>1.04</td>\n",
       "      <td>3</td>\n",
       "      <td>2</td>\n",
       "      <td>62.3</td>\n",
       "      <td>54.0</td>\n",
       "      <td>6.49</td>\n",
       "      <td>6.55</td>\n",
       "      <td>4.06</td>\n",
       "      <td>0</td>\n",
       "      <td>0</td>\n",
       "      <td>0</td>\n",
       "      <td>1</td>\n",
       "      <td>0</td>\n",
       "      <td>0</td>\n",
       "      <td>0</td>\n",
       "    </tr>\n",
       "    <tr>\n",
       "      <th>1949</th>\n",
       "      <td>0.75</td>\n",
       "      <td>3</td>\n",
       "      <td>1</td>\n",
       "      <td>63.9</td>\n",
       "      <td>56.0</td>\n",
       "      <td>5.73</td>\n",
       "      <td>5.75</td>\n",
       "      <td>3.67</td>\n",
       "      <td>1</td>\n",
       "      <td>0</td>\n",
       "      <td>0</td>\n",
       "      <td>0</td>\n",
       "      <td>0</td>\n",
       "      <td>0</td>\n",
       "      <td>0</td>\n",
       "    </tr>\n",
       "    <tr>\n",
       "      <th>...</th>\n",
       "      <td>...</td>\n",
       "      <td>...</td>\n",
       "      <td>...</td>\n",
       "      <td>...</td>\n",
       "      <td>...</td>\n",
       "      <td>...</td>\n",
       "      <td>...</td>\n",
       "      <td>...</td>\n",
       "      <td>...</td>\n",
       "      <td>...</td>\n",
       "      <td>...</td>\n",
       "      <td>...</td>\n",
       "      <td>...</td>\n",
       "      <td>...</td>\n",
       "      <td>...</td>\n",
       "    </tr>\n",
       "    <tr>\n",
       "      <th>49015</th>\n",
       "      <td>0.50</td>\n",
       "      <td>2</td>\n",
       "      <td>5</td>\n",
       "      <td>61.9</td>\n",
       "      <td>58.0</td>\n",
       "      <td>5.07</td>\n",
       "      <td>5.10</td>\n",
       "      <td>3.15</td>\n",
       "      <td>0</td>\n",
       "      <td>0</td>\n",
       "      <td>1</td>\n",
       "      <td>0</td>\n",
       "      <td>0</td>\n",
       "      <td>0</td>\n",
       "      <td>0</td>\n",
       "    </tr>\n",
       "    <tr>\n",
       "      <th>2693</th>\n",
       "      <td>0.90</td>\n",
       "      <td>4</td>\n",
       "      <td>2</td>\n",
       "      <td>63.8</td>\n",
       "      <td>55.0</td>\n",
       "      <td>6.16</td>\n",
       "      <td>6.07</td>\n",
       "      <td>3.90</td>\n",
       "      <td>0</td>\n",
       "      <td>0</td>\n",
       "      <td>0</td>\n",
       "      <td>0</td>\n",
       "      <td>0</td>\n",
       "      <td>1</td>\n",
       "      <td>0</td>\n",
       "    </tr>\n",
       "    <tr>\n",
       "      <th>8076</th>\n",
       "      <td>1.01</td>\n",
       "      <td>4</td>\n",
       "      <td>3</td>\n",
       "      <td>63.6</td>\n",
       "      <td>57.0</td>\n",
       "      <td>6.34</td>\n",
       "      <td>6.30</td>\n",
       "      <td>4.02</td>\n",
       "      <td>1</td>\n",
       "      <td>0</td>\n",
       "      <td>0</td>\n",
       "      <td>0</td>\n",
       "      <td>0</td>\n",
       "      <td>0</td>\n",
       "      <td>0</td>\n",
       "    </tr>\n",
       "    <tr>\n",
       "      <th>52981</th>\n",
       "      <td>0.71</td>\n",
       "      <td>3</td>\n",
       "      <td>5</td>\n",
       "      <td>62.5</td>\n",
       "      <td>56.0</td>\n",
       "      <td>5.65</td>\n",
       "      <td>5.68</td>\n",
       "      <td>3.54</td>\n",
       "      <td>0</td>\n",
       "      <td>0</td>\n",
       "      <td>0</td>\n",
       "      <td>0</td>\n",
       "      <td>1</td>\n",
       "      <td>0</td>\n",
       "      <td>0</td>\n",
       "    </tr>\n",
       "    <tr>\n",
       "      <th>7624</th>\n",
       "      <td>1.01</td>\n",
       "      <td>3</td>\n",
       "      <td>4</td>\n",
       "      <td>61.3</td>\n",
       "      <td>57.0</td>\n",
       "      <td>6.43</td>\n",
       "      <td>6.50</td>\n",
       "      <td>3.96</td>\n",
       "      <td>0</td>\n",
       "      <td>0</td>\n",
       "      <td>0</td>\n",
       "      <td>0</td>\n",
       "      <td>0</td>\n",
       "      <td>0</td>\n",
       "      <td>1</td>\n",
       "    </tr>\n",
       "  </tbody>\n",
       "</table>\n",
       "<p>37758 rows × 15 columns</p>\n",
       "</div>"
      ],
      "text/plain": [
       "       carat  cut  clarity  depth  table     x     y     z  color_D  color_E  \\\n",
       "30006   0.43    3        3   62.7   55.0  4.83  4.87  3.04        0        1   \n",
       "21473   1.53    2        1   61.7   59.0  7.31  7.40  4.54        0        0   \n",
       "35218   0.41    4        6   62.6   62.0  4.70  4.76  2.96        0        0   \n",
       "15159   1.04    3        2   62.3   54.0  6.49  6.55  4.06        0        0   \n",
       "1949    0.75    3        1   63.9   56.0  5.73  5.75  3.67        1        0   \n",
       "...      ...  ...      ...    ...    ...   ...   ...   ...      ...      ...   \n",
       "49015   0.50    2        5   61.9   58.0  5.07  5.10  3.15        0        0   \n",
       "2693    0.90    4        2   63.8   55.0  6.16  6.07  3.90        0        0   \n",
       "8076    1.01    4        3   63.6   57.0  6.34  6.30  4.02        1        0   \n",
       "52981   0.71    3        5   62.5   56.0  5.65  5.68  3.54        0        0   \n",
       "7624    1.01    3        4   61.3   57.0  6.43  6.50  3.96        0        0   \n",
       "\n",
       "       color_F  color_G  color_H  color_I  color_J  \n",
       "30006        0        0        0        0        0  \n",
       "21473        0        1        0        0        0  \n",
       "35218        0        0        1        0        0  \n",
       "15159        0        1        0        0        0  \n",
       "1949         0        0        0        0        0  \n",
       "...        ...      ...      ...      ...      ...  \n",
       "49015        1        0        0        0        0  \n",
       "2693         0        0        0        1        0  \n",
       "8076         0        0        0        0        0  \n",
       "52981        0        0        1        0        0  \n",
       "7624         0        0        0        0        1  \n",
       "\n",
       "[37758 rows x 15 columns]"
      ]
     },
     "execution_count": 33,
     "metadata": {},
     "output_type": "execute_result"
    }
   ],
   "source": [
    "x_train,x_test,y_train,y_test=train_test_split(X,y,test_size=0.3,random_state=15)\n",
    "x_train"
   ]
  },
  {
   "cell_type": "markdown",
   "id": "da16ada1",
   "metadata": {},
   "source": [
    "### instancing the model"
   ]
  },
  {
   "cell_type": "code",
   "execution_count": 34,
   "id": "5ef2b56f",
   "metadata": {},
   "outputs": [
    {
     "data": {
      "text/html": [
       "<style>#sk-container-id-1 {color: black;background-color: white;}#sk-container-id-1 pre{padding: 0;}#sk-container-id-1 div.sk-toggleable {background-color: white;}#sk-container-id-1 label.sk-toggleable__label {cursor: pointer;display: block;width: 100%;margin-bottom: 0;padding: 0.3em;box-sizing: border-box;text-align: center;}#sk-container-id-1 label.sk-toggleable__label-arrow:before {content: \"▸\";float: left;margin-right: 0.25em;color: #696969;}#sk-container-id-1 label.sk-toggleable__label-arrow:hover:before {color: black;}#sk-container-id-1 div.sk-estimator:hover label.sk-toggleable__label-arrow:before {color: black;}#sk-container-id-1 div.sk-toggleable__content {max-height: 0;max-width: 0;overflow: hidden;text-align: left;background-color: #f0f8ff;}#sk-container-id-1 div.sk-toggleable__content pre {margin: 0.2em;color: black;border-radius: 0.25em;background-color: #f0f8ff;}#sk-container-id-1 input.sk-toggleable__control:checked~div.sk-toggleable__content {max-height: 200px;max-width: 100%;overflow: auto;}#sk-container-id-1 input.sk-toggleable__control:checked~label.sk-toggleable__label-arrow:before {content: \"▾\";}#sk-container-id-1 div.sk-estimator input.sk-toggleable__control:checked~label.sk-toggleable__label {background-color: #d4ebff;}#sk-container-id-1 div.sk-label input.sk-toggleable__control:checked~label.sk-toggleable__label {background-color: #d4ebff;}#sk-container-id-1 input.sk-hidden--visually {border: 0;clip: rect(1px 1px 1px 1px);clip: rect(1px, 1px, 1px, 1px);height: 1px;margin: -1px;overflow: hidden;padding: 0;position: absolute;width: 1px;}#sk-container-id-1 div.sk-estimator {font-family: monospace;background-color: #f0f8ff;border: 1px dotted black;border-radius: 0.25em;box-sizing: border-box;margin-bottom: 0.5em;}#sk-container-id-1 div.sk-estimator:hover {background-color: #d4ebff;}#sk-container-id-1 div.sk-parallel-item::after {content: \"\";width: 100%;border-bottom: 1px solid gray;flex-grow: 1;}#sk-container-id-1 div.sk-label:hover label.sk-toggleable__label {background-color: #d4ebff;}#sk-container-id-1 div.sk-serial::before {content: \"\";position: absolute;border-left: 1px solid gray;box-sizing: border-box;top: 0;bottom: 0;left: 50%;z-index: 0;}#sk-container-id-1 div.sk-serial {display: flex;flex-direction: column;align-items: center;background-color: white;padding-right: 0.2em;padding-left: 0.2em;position: relative;}#sk-container-id-1 div.sk-item {position: relative;z-index: 1;}#sk-container-id-1 div.sk-parallel {display: flex;align-items: stretch;justify-content: center;background-color: white;position: relative;}#sk-container-id-1 div.sk-item::before, #sk-container-id-1 div.sk-parallel-item::before {content: \"\";position: absolute;border-left: 1px solid gray;box-sizing: border-box;top: 0;bottom: 0;left: 50%;z-index: -1;}#sk-container-id-1 div.sk-parallel-item {display: flex;flex-direction: column;z-index: 1;position: relative;background-color: white;}#sk-container-id-1 div.sk-parallel-item:first-child::after {align-self: flex-end;width: 50%;}#sk-container-id-1 div.sk-parallel-item:last-child::after {align-self: flex-start;width: 50%;}#sk-container-id-1 div.sk-parallel-item:only-child::after {width: 0;}#sk-container-id-1 div.sk-dashed-wrapped {border: 1px dashed gray;margin: 0 0.4em 0.5em 0.4em;box-sizing: border-box;padding-bottom: 0.4em;background-color: white;}#sk-container-id-1 div.sk-label label {font-family: monospace;font-weight: bold;display: inline-block;line-height: 1.2em;}#sk-container-id-1 div.sk-label-container {text-align: center;}#sk-container-id-1 div.sk-container {/* jupyter's `normalize.less` sets `[hidden] { display: none; }` but bootstrap.min.css set `[hidden] { display: none !important; }` so we also need the `!important` here to be able to override the default hidden behavior on the sphinx rendered scikit-learn.org. See: https://github.com/scikit-learn/scikit-learn/issues/21755 */display: inline-block !important;position: relative;}#sk-container-id-1 div.sk-text-repr-fallback {display: none;}</style><div id=\"sk-container-id-1\" class=\"sk-top-container\"><div class=\"sk-text-repr-fallback\"><pre>LinearRegression()</pre><b>In a Jupyter environment, please rerun this cell to show the HTML representation or trust the notebook. <br />On GitHub, the HTML representation is unable to render, please try loading this page with nbviewer.org.</b></div><div class=\"sk-container\" hidden><div class=\"sk-item\"><div class=\"sk-estimator sk-toggleable\"><input class=\"sk-toggleable__control sk-hidden--visually\" id=\"sk-estimator-id-1\" type=\"checkbox\" checked><label for=\"sk-estimator-id-1\" class=\"sk-toggleable__label sk-toggleable__label-arrow\">LinearRegression</label><div class=\"sk-toggleable__content\"><pre>LinearRegression()</pre></div></div></div></div></div>"
      ],
      "text/plain": [
       "LinearRegression()"
      ]
     },
     "execution_count": 34,
     "metadata": {},
     "output_type": "execute_result"
    }
   ],
   "source": [
    "linear_reg=LinearRegression()\n",
    "linear_reg"
   ]
  },
  {
   "cell_type": "code",
   "execution_count": 35,
   "id": "fe5c5867",
   "metadata": {},
   "outputs": [
    {
     "data": {
      "text/html": [
       "<style>#sk-container-id-2 {color: black;background-color: white;}#sk-container-id-2 pre{padding: 0;}#sk-container-id-2 div.sk-toggleable {background-color: white;}#sk-container-id-2 label.sk-toggleable__label {cursor: pointer;display: block;width: 100%;margin-bottom: 0;padding: 0.3em;box-sizing: border-box;text-align: center;}#sk-container-id-2 label.sk-toggleable__label-arrow:before {content: \"▸\";float: left;margin-right: 0.25em;color: #696969;}#sk-container-id-2 label.sk-toggleable__label-arrow:hover:before {color: black;}#sk-container-id-2 div.sk-estimator:hover label.sk-toggleable__label-arrow:before {color: black;}#sk-container-id-2 div.sk-toggleable__content {max-height: 0;max-width: 0;overflow: hidden;text-align: left;background-color: #f0f8ff;}#sk-container-id-2 div.sk-toggleable__content pre {margin: 0.2em;color: black;border-radius: 0.25em;background-color: #f0f8ff;}#sk-container-id-2 input.sk-toggleable__control:checked~div.sk-toggleable__content {max-height: 200px;max-width: 100%;overflow: auto;}#sk-container-id-2 input.sk-toggleable__control:checked~label.sk-toggleable__label-arrow:before {content: \"▾\";}#sk-container-id-2 div.sk-estimator input.sk-toggleable__control:checked~label.sk-toggleable__label {background-color: #d4ebff;}#sk-container-id-2 div.sk-label input.sk-toggleable__control:checked~label.sk-toggleable__label {background-color: #d4ebff;}#sk-container-id-2 input.sk-hidden--visually {border: 0;clip: rect(1px 1px 1px 1px);clip: rect(1px, 1px, 1px, 1px);height: 1px;margin: -1px;overflow: hidden;padding: 0;position: absolute;width: 1px;}#sk-container-id-2 div.sk-estimator {font-family: monospace;background-color: #f0f8ff;border: 1px dotted black;border-radius: 0.25em;box-sizing: border-box;margin-bottom: 0.5em;}#sk-container-id-2 div.sk-estimator:hover {background-color: #d4ebff;}#sk-container-id-2 div.sk-parallel-item::after {content: \"\";width: 100%;border-bottom: 1px solid gray;flex-grow: 1;}#sk-container-id-2 div.sk-label:hover label.sk-toggleable__label {background-color: #d4ebff;}#sk-container-id-2 div.sk-serial::before {content: \"\";position: absolute;border-left: 1px solid gray;box-sizing: border-box;top: 0;bottom: 0;left: 50%;z-index: 0;}#sk-container-id-2 div.sk-serial {display: flex;flex-direction: column;align-items: center;background-color: white;padding-right: 0.2em;padding-left: 0.2em;position: relative;}#sk-container-id-2 div.sk-item {position: relative;z-index: 1;}#sk-container-id-2 div.sk-parallel {display: flex;align-items: stretch;justify-content: center;background-color: white;position: relative;}#sk-container-id-2 div.sk-item::before, #sk-container-id-2 div.sk-parallel-item::before {content: \"\";position: absolute;border-left: 1px solid gray;box-sizing: border-box;top: 0;bottom: 0;left: 50%;z-index: -1;}#sk-container-id-2 div.sk-parallel-item {display: flex;flex-direction: column;z-index: 1;position: relative;background-color: white;}#sk-container-id-2 div.sk-parallel-item:first-child::after {align-self: flex-end;width: 50%;}#sk-container-id-2 div.sk-parallel-item:last-child::after {align-self: flex-start;width: 50%;}#sk-container-id-2 div.sk-parallel-item:only-child::after {width: 0;}#sk-container-id-2 div.sk-dashed-wrapped {border: 1px dashed gray;margin: 0 0.4em 0.5em 0.4em;box-sizing: border-box;padding-bottom: 0.4em;background-color: white;}#sk-container-id-2 div.sk-label label {font-family: monospace;font-weight: bold;display: inline-block;line-height: 1.2em;}#sk-container-id-2 div.sk-label-container {text-align: center;}#sk-container-id-2 div.sk-container {/* jupyter's `normalize.less` sets `[hidden] { display: none; }` but bootstrap.min.css set `[hidden] { display: none !important; }` so we also need the `!important` here to be able to override the default hidden behavior on the sphinx rendered scikit-learn.org. See: https://github.com/scikit-learn/scikit-learn/issues/21755 */display: inline-block !important;position: relative;}#sk-container-id-2 div.sk-text-repr-fallback {display: none;}</style><div id=\"sk-container-id-2\" class=\"sk-top-container\"><div class=\"sk-text-repr-fallback\"><pre>LinearRegression()</pre><b>In a Jupyter environment, please rerun this cell to show the HTML representation or trust the notebook. <br />On GitHub, the HTML representation is unable to render, please try loading this page with nbviewer.org.</b></div><div class=\"sk-container\" hidden><div class=\"sk-item\"><div class=\"sk-estimator sk-toggleable\"><input class=\"sk-toggleable__control sk-hidden--visually\" id=\"sk-estimator-id-2\" type=\"checkbox\" checked><label for=\"sk-estimator-id-2\" class=\"sk-toggleable__label sk-toggleable__label-arrow\">LinearRegression</label><div class=\"sk-toggleable__content\"><pre>LinearRegression()</pre></div></div></div></div></div>"
      ],
      "text/plain": [
       "LinearRegression()"
      ]
     },
     "execution_count": 35,
     "metadata": {},
     "output_type": "execute_result"
    }
   ],
   "source": [
    "linear_reg.fit(x_train,y_train)"
   ]
  },
  {
   "cell_type": "code",
   "execution_count": 36,
   "id": "a740bc3c",
   "metadata": {},
   "outputs": [
    {
     "data": {
      "text/plain": [
       "array([11227.91280797,  -189.8170948 ,    98.97875548,  -132.89418115,\n",
       "         -41.1898372 , -1708.73878184,   404.02179303,    29.03110075,\n",
       "         640.86166513,   507.65031924,   519.56765682,   432.7825459 ,\n",
       "        -175.3925758 ,  -537.92310228, -1387.54650901])"
      ]
     },
     "execution_count": 36,
     "metadata": {},
     "output_type": "execute_result"
    }
   ],
   "source": [
    "linear_reg.coef_"
   ]
  },
  {
   "cell_type": "code",
   "execution_count": 37,
   "id": "0162243b",
   "metadata": {},
   "outputs": [
    {
     "data": {
      "text/plain": [
       "12813.00399354515"
      ]
     },
     "execution_count": 37,
     "metadata": {},
     "output_type": "execute_result"
    }
   ],
   "source": [
    "linear_reg.intercept_"
   ]
  },
  {
   "cell_type": "markdown",
   "id": "17d8c33c",
   "metadata": {},
   "source": [
    "## 6 evalution of model"
   ]
  },
  {
   "cell_type": "markdown",
   "id": "65c49a3a",
   "metadata": {},
   "source": [
    "#### training data evalution"
   ]
  },
  {
   "cell_type": "code",
   "execution_count": 38,
   "id": "1676fbf3",
   "metadata": {},
   "outputs": [
    {
     "data": {
      "text/plain": [
       "array([ 1080.86796028, 10144.74830043,   180.71769477, ...,\n",
       "        5360.47328475,  2665.59456309,  3851.79357973])"
      ]
     },
     "execution_count": 38,
     "metadata": {},
     "output_type": "execute_result"
    }
   ],
   "source": [
    "y_pred_train=linear_reg.predict(x_train)\n",
    "y_pred_train"
   ]
  },
  {
   "cell_type": "code",
   "execution_count": 39,
   "id": "0e0ca36c",
   "metadata": {},
   "outputs": [
    {
     "name": "stdout",
     "output_type": "stream",
     "text": [
      "mean sqaured error:  1908871.59412722\n",
      "root mean sqaured error:  1381.6191928774078\n",
      "mean absolute error:  823.589972575995\n",
      "R sqaured value:  0.8798769160860039\n",
      "adjusted r2 values:  0.8798291749419546\n"
     ]
    }
   ],
   "source": [
    "mse=mean_squared_error(y_train,y_pred_train)\n",
    "print(\"mean sqaured error: \",mse)\n",
    "\n",
    "rmse=np.sqrt(mse)\n",
    "print(\"root mean sqaured error: \",rmse)\n",
    "\n",
    "mae=mean_absolute_error(y_train,y_pred_train)\n",
    "print(\"mean absolute error: \",mae)\n",
    "\n",
    "r2_value=r2_score(y_train,y_pred_train)\n",
    "print(\"R sqaured value: \",r2_value)\n",
    "\n",
    "n=x_train.shape[0]\n",
    "k=x_train.shape[1]\n",
    "adj_r2=1-((1-r2_value)*(n-1))/(n-k-1)\n",
    "print(\"adjusted r2 values: \",adj_r2)"
   ]
  },
  {
   "cell_type": "markdown",
   "id": "4724686b",
   "metadata": {},
   "source": [
    "#### testing data evalutions"
   ]
  },
  {
   "cell_type": "code",
   "execution_count": 40,
   "id": "114613bd",
   "metadata": {},
   "outputs": [],
   "source": [
    "y_pred=linear_reg.predict(x_test)"
   ]
  },
  {
   "cell_type": "code",
   "execution_count": 41,
   "id": "7e5d117c",
   "metadata": {},
   "outputs": [
    {
     "name": "stdout",
     "output_type": "stream",
     "text": [
      "mean sqaured error:  2005174.7001002033\n",
      "root mean sqaured error:  1416.0419132568793\n",
      "mean absolute error:  838.7668774621387\n",
      "R sqaured value:  0.8744479010895747\n",
      "adjusted r2 values:  0.8743314046474334\n"
     ]
    }
   ],
   "source": [
    "mse=mean_squared_error(y_test,y_pred)\n",
    "print(\"mean sqaured error: \",mse)\n",
    "\n",
    "rmse=np.sqrt(mse)\n",
    "print(\"root mean sqaured error: \",rmse)\n",
    "\n",
    "mae=mean_absolute_error(y_test,y_pred)\n",
    "print(\"mean absolute error: \",mae)\n",
    "\n",
    "r2_value=r2_score(y_test,y_pred)\n",
    "print(\"R sqaured value: \",r2_value)\n",
    "\n",
    "n=x_test.shape[0]\n",
    "k=x_test.shape[1]\n",
    "adj_r2=1-((1-r2_value)*(n-1))/(n-k-1)\n",
    "print(\"adjusted r2 values: \",adj_r2)"
   ]
  },
  {
   "cell_type": "code",
   "execution_count": 42,
   "id": "deb96eeb",
   "metadata": {},
   "outputs": [],
   "source": [
    "##Assumptions after training the model"
   ]
  },
  {
   "cell_type": "markdown",
   "id": "2534ff13",
   "metadata": {},
   "source": [
    "### 3.normality of residuals"
   ]
  },
  {
   "cell_type": "code",
   "execution_count": 43,
   "id": "8c5b7a1c",
   "metadata": {},
   "outputs": [
    {
     "data": {
      "text/plain": [
       "46307     868.295775\n",
       "67        639.345716\n",
       "42455    -536.405606\n",
       "25376     -78.570202\n",
       "12336   -1125.759942\n",
       "            ...     \n",
       "3721      948.793787\n",
       "43671     -72.373385\n",
       "13552       5.045307\n",
       "20142    -875.080416\n",
       "24151    1518.324210\n",
       "Name: price, Length: 16182, dtype: float64"
      ]
     },
     "execution_count": 43,
     "metadata": {},
     "output_type": "execute_result"
    }
   ],
   "source": [
    "residuals=y_test -y_pred\n",
    "residuals"
   ]
  },
  {
   "cell_type": "markdown",
   "id": "2e690e4f",
   "metadata": {},
   "source": [
    "#### visulations techniques(tools)"
   ]
  },
  {
   "cell_type": "code",
   "execution_count": 44,
   "id": "80ae1d3e",
   "metadata": {},
   "outputs": [
    {
     "data": {
      "text/plain": [
       "<Axes: xlabel='price', ylabel='Density'>"
      ]
     },
     "execution_count": 44,
     "metadata": {},
     "output_type": "execute_result"
    },
    {
     "data": {
      "image/png": "[encoded data removed]",
      "text/plain": [
       "<Figure size 640x480 with 1 Axes>"
      ]
     },
     "metadata": {},
     "output_type": "display_data"
    }
   ],
   "source": [
    "sns.kdeplot(residuals)"
   ]
  },
  {
   "cell_type": "code",
   "execution_count": 45,
   "id": "7695d915",
   "metadata": {},
   "outputs": [
    {
     "data": {
      "text/plain": [
       "<Axes: xlabel='price', ylabel='Count'>"
      ]
     },
     "execution_count": 45,
     "metadata": {},
     "output_type": "execute_result"
    },
    {
     "data": {
      "image/png": "[encoded data removed]",
      "text/plain": [
       "<Figure size 640x480 with 1 Axes>"
      ]
     },
     "metadata": {},
     "output_type": "display_data"
    }
   ],
   "source": [
    "sns.histplot(residuals)"
   ]
  },
  {
   "cell_type": "code",
   "execution_count": 46,
   "id": "bd9860e5",
   "metadata": {},
   "outputs": [
    {
     "data": {
      "text/plain": [
       "<Axes: xlabel='price', ylabel='Density'>"
      ]
     },
     "execution_count": 46,
     "metadata": {},
     "output_type": "execute_result"
    },
    {
     "data": {
      "image/png": "[encoded data removed]",
      "text/plain": [
       "<Figure size 640x480 with 1 Axes>"
      ]
     },
     "metadata": {},
     "output_type": "display_data"
    }
   ],
   "source": [
    "sns.distplot(residuals)"
   ]
  },
  {
   "cell_type": "markdown",
   "id": "4be78c6f",
   "metadata": {},
   "source": [
    "### 2QQ plot"
   ]
  },
  {
   "cell_type": "code",
   "execution_count": 47,
   "id": "40e3a050",
   "metadata": {},
   "outputs": [
    {
     "data": {
      "image/png": "[encoded data removed]",
      "text/plain": [
       "<Figure size 640x480 with 1 Axes>"
      ]
     },
     "execution_count": 47,
     "metadata": {},
     "output_type": "execute_result"
    },
    {
     "data": {
      "image/png": "[encoded data removed]",
      "text/plain": [
       "<Figure size 640x480 with 1 Axes>"
      ]
     },
     "metadata": {},
     "output_type": "display_data"
    }
   ],
   "source": [
    "sm.qqplot(residuals,line='45',fit=True)"
   ]
  },
  {
   "cell_type": "markdown",
   "id": "6c3beac0",
   "metadata": {},
   "source": [
    "### 3hypothesis testing"
   ]
  },
  {
   "cell_type": "markdown",
   "id": "e446acc7",
   "metadata": {},
   "source": [
    "### shapiro"
   ]
  },
  {
   "cell_type": "code",
   "execution_count": 48,
   "id": "b3f6be40",
   "metadata": {},
   "outputs": [
    {
     "name": "stdout",
     "output_type": "stream",
     "text": [
      "p_val:  0.0\n",
      "data is not noramally distributed \n",
      "alternate hypothesis is true\n"
     ]
    }
   ],
   "source": [
    "_,p_val=shapiro(residuals)\n",
    "print(\"p_val: \",p_val)\n",
    "if p_val>0.05:\n",
    "    print(\"data is normally distributed\")\n",
    "    print(\"null hypothesis is true\")\n",
    "else:\n",
    "    print(\"data is not noramally distributed \")\n",
    "    print(\"alternate hypothesis is true\")"
   ]
  },
  {
   "cell_type": "markdown",
   "id": "6a68abc1",
   "metadata": {},
   "source": [
    "### kstest"
   ]
  },
  {
   "cell_type": "code",
   "execution_count": 49,
   "id": "d936eb81",
   "metadata": {},
   "outputs": [
    {
     "name": "stdout",
     "output_type": "stream",
     "text": [
      "p_val:  0.0\n",
      "data is not noramally distributed \n",
      "alternate hypothesis is true\n"
     ]
    }
   ],
   "source": [
    "_,p_val=kstest(residuals,'norm')\n",
    "print(\"p_val: \",p_val)\n",
    "if p_val>0.05:\n",
    "    print(\"data is normally distributed\")\n",
    "    print(\"null hypothesis is true\")\n",
    "else:\n",
    "    print(\"data is not noramally distributed \")\n",
    "    print(\"alternate hypothesis is true\")"
   ]
  },
  {
   "cell_type": "markdown",
   "id": "0b78a914",
   "metadata": {},
   "source": [
    "### normaltest"
   ]
  },
  {
   "cell_type": "code",
   "execution_count": 50,
   "id": "9576628e",
   "metadata": {},
   "outputs": [
    {
     "name": "stdout",
     "output_type": "stream",
     "text": [
      "p_val:  0.0\n",
      "data is not noramally distributed \n",
      "alternate hypothesis is true\n"
     ]
    }
   ],
   "source": [
    "_,p_val=normaltest(residuals)\n",
    "print(\"p_val: \",p_val)\n",
    "if p_val>0.05:\n",
    "    print(\"data is normally distributed\")\n",
    "    print(\"null hypothesis is true\")\n",
    "else:\n",
    "    print(\"data is not noramally distributed \")\n",
    "    print(\"alternate hypothesis is true\")"
   ]
  },
  {
   "cell_type": "markdown",
   "id": "1d68a647",
   "metadata": {},
   "source": [
    "### 4 skewness"
   ]
  },
  {
   "cell_type": "code",
   "execution_count": 51,
   "id": "c469d051",
   "metadata": {},
   "outputs": [
    {
     "name": "stdout",
     "output_type": "stream",
     "text": [
      "mean:  8.755576712514266\n",
      "median:  -99.86862479673891\n",
      "skew:  -0.28853361794753696\n",
      "data is postively skewwed\n",
      "skew:  -0.28853361794753696\n"
     ]
    }
   ],
   "source": [
    "mean=residuals.mean()\n",
    "median=residuals.median()\n",
    "skew=residuals.skew()\n",
    "print(\"mean: \",mean)\n",
    "print(\"median: \",median)\n",
    "print(\"skew: \",skew)\n",
    "\n",
    "if mean>median:\n",
    "    print(\"data is postively skewwed\")\n",
    "    print(\"skew: \",skew)\n",
    "elif mean<median:\n",
    "    print(\"data is negetively skewwed\")\n",
    "    print(\"skew: \",skew)\n",
    "else:\n",
    "    print(\"symmetric data\")\n",
    "    print(\"skew: \",skew)"
   ]
  },
  {
   "cell_type": "code",
   "execution_count": 52,
   "id": "6f4409d7",
   "metadata": {},
   "outputs": [
    {
     "data": {
      "text/html": [
       "<div>\n",
       "<style scoped>\n",
       "    .dataframe tbody tr th:only-of-type {\n",
       "        vertical-align: middle;\n",
       "    }\n",
       "\n",
       "    .dataframe tbody tr th {\n",
       "        vertical-align: top;\n",
       "    }\n",
       "\n",
       "    .dataframe thead th {\n",
       "        text-align: right;\n",
       "    }\n",
       "</style>\n",
       "<table border=\"1\" class=\"dataframe\">\n",
       "  <thead>\n",
       "    <tr style=\"text-align: right;\">\n",
       "      <th></th>\n",
       "      <th>30006</th>\n",
       "    </tr>\n",
       "  </thead>\n",
       "  <tbody>\n",
       "    <tr>\n",
       "      <th>carat</th>\n",
       "      <td>0.43</td>\n",
       "    </tr>\n",
       "    <tr>\n",
       "      <th>cut</th>\n",
       "      <td>3.00</td>\n",
       "    </tr>\n",
       "    <tr>\n",
       "      <th>clarity</th>\n",
       "      <td>3.00</td>\n",
       "    </tr>\n",
       "    <tr>\n",
       "      <th>depth</th>\n",
       "      <td>62.70</td>\n",
       "    </tr>\n",
       "    <tr>\n",
       "      <th>table</th>\n",
       "      <td>55.00</td>\n",
       "    </tr>\n",
       "    <tr>\n",
       "      <th>x</th>\n",
       "      <td>4.83</td>\n",
       "    </tr>\n",
       "    <tr>\n",
       "      <th>y</th>\n",
       "      <td>4.87</td>\n",
       "    </tr>\n",
       "    <tr>\n",
       "      <th>z</th>\n",
       "      <td>3.04</td>\n",
       "    </tr>\n",
       "    <tr>\n",
       "      <th>color_D</th>\n",
       "      <td>0.00</td>\n",
       "    </tr>\n",
       "    <tr>\n",
       "      <th>color_E</th>\n",
       "      <td>1.00</td>\n",
       "    </tr>\n",
       "    <tr>\n",
       "      <th>color_F</th>\n",
       "      <td>0.00</td>\n",
       "    </tr>\n",
       "    <tr>\n",
       "      <th>color_G</th>\n",
       "      <td>0.00</td>\n",
       "    </tr>\n",
       "    <tr>\n",
       "      <th>color_H</th>\n",
       "      <td>0.00</td>\n",
       "    </tr>\n",
       "    <tr>\n",
       "      <th>color_I</th>\n",
       "      <td>0.00</td>\n",
       "    </tr>\n",
       "    <tr>\n",
       "      <th>color_J</th>\n",
       "      <td>0.00</td>\n",
       "    </tr>\n",
       "  </tbody>\n",
       "</table>\n",
       "</div>"
      ],
      "text/plain": [
       "         30006\n",
       "carat     0.43\n",
       "cut       3.00\n",
       "clarity   3.00\n",
       "depth    62.70\n",
       "table    55.00\n",
       "x         4.83\n",
       "y         4.87\n",
       "z         3.04\n",
       "color_D   0.00\n",
       "color_E   1.00\n",
       "color_F   0.00\n",
       "color_G   0.00\n",
       "color_H   0.00\n",
       "color_I   0.00\n",
       "color_J   0.00"
      ]
     },
     "execution_count": 52,
     "metadata": {},
     "output_type": "execute_result"
    }
   ],
   "source": [
    "x_train.head(1).T"
   ]
  },
  {
   "cell_type": "code",
   "execution_count": 53,
   "id": "a8e22235",
   "metadata": {},
   "outputs": [],
   "source": [
    "carat=0.43\n",
    "cut=3.00\n",
    "clarity=3.00\n",
    "depth=62.70\n",
    "table=55.00\n",
    "x=4.83\n",
    "y=4.87\n",
    "z=3.04\n",
    "color_D=0.00\n",
    "color_E=1.00\n",
    "color_F=0.00\n",
    "color_G=0.00\n",
    "color_H=0.00\n",
    "color_I=0.00\n",
    "color_J=0.00"
   ]
  },
  {
   "cell_type": "code",
   "execution_count": 54,
   "id": "9594abf0",
   "metadata": {},
   "outputs": [],
   "source": [
    "carat=0.75\n",
    "cut='Ideal'\n",
    "clarity=\"SI2\"\n",
    "depth=62.70\n",
    "table=55.00\n",
    "x=4.83\n",
    "y=4.87\n",
    "z=3.04\n",
    "color='F'\n",
    "cut=cut_lables[cut]\n",
    "clarity=clarity_lables[clarity]"
   ]
  },
  {
   "cell_type": "code",
   "execution_count": 55,
   "id": "ae5e7199",
   "metadata": {},
   "outputs": [],
   "source": [
    "color='color_' + color\n"
   ]
  },
  {
   "cell_type": "code",
   "execution_count": 56,
   "id": "6009b9c5",
   "metadata": {},
   "outputs": [
    {
     "data": {
      "text/plain": [
       "Index(['carat', 'cut', 'clarity', 'depth', 'table', 'x', 'y', 'z', 'color_D',\n",
       "       'color_E', 'color_F', 'color_G', 'color_H', 'color_I', 'color_J'],\n",
       "      dtype='object')"
      ]
     },
     "execution_count": 56,
     "metadata": {},
     "output_type": "execute_result"
    }
   ],
   "source": [
    "x_train.columns"
   ]
  },
  {
   "cell_type": "code",
   "execution_count": 57,
   "id": "d8d9b8a3",
   "metadata": {},
   "outputs": [
    {
     "data": {
      "text/plain": [
       "array([5065.35158602])"
      ]
     },
     "execution_count": 57,
     "metadata": {},
     "output_type": "execute_result"
    }
   ],
   "source": [
    "def get_predicted_price():\n",
    "    test_array=np.zeros((1,linear_reg.n_features_in_))\n",
    "    test_array[0][0]=carat\n",
    "    test_array[0][1]=cut\n",
    "    test_array[0][2]=clarity\n",
    "    test_array[0][3]=depth\n",
    "    test_array[0][4]=table\n",
    "    test_array[0][5]=x\n",
    "    test_array[0][6]=y\n",
    "    test_array[0][7]=z\n",
    "    #test_array\n",
    "    color_index=x_train.columns.tolist().index(color)\n",
    "    test_array[0][color_index]=1\n",
    "    predicted_price=linear_reg.predict(test_array)\n",
    "    return predicted_price\n",
    "get_predicted_price()\n"
   ]
  },
  {
   "cell_type": "code",
   "execution_count": 58,
   "id": "00082678",
   "metadata": {},
   "outputs": [
    {
     "data": {
      "text/html": [
       "<div>\n",
       "<style scoped>\n",
       "    .dataframe tbody tr th:only-of-type {\n",
       "        vertical-align: middle;\n",
       "    }\n",
       "\n",
       "    .dataframe tbody tr th {\n",
       "        vertical-align: top;\n",
       "    }\n",
       "\n",
       "    .dataframe thead th {\n",
       "        text-align: right;\n",
       "    }\n",
       "</style>\n",
       "<table border=\"1\" class=\"dataframe\">\n",
       "  <thead>\n",
       "    <tr style=\"text-align: right;\">\n",
       "      <th></th>\n",
       "      <th>carat</th>\n",
       "      <th>cut</th>\n",
       "      <th>clarity</th>\n",
       "      <th>depth</th>\n",
       "      <th>table</th>\n",
       "      <th>x</th>\n",
       "      <th>y</th>\n",
       "      <th>z</th>\n",
       "      <th>color_D</th>\n",
       "      <th>color_E</th>\n",
       "      <th>color_F</th>\n",
       "      <th>color_G</th>\n",
       "      <th>color_H</th>\n",
       "      <th>color_I</th>\n",
       "      <th>color_J</th>\n",
       "    </tr>\n",
       "  </thead>\n",
       "  <tbody>\n",
       "    <tr>\n",
       "      <th>32081</th>\n",
       "      <td>0.33</td>\n",
       "      <td>3</td>\n",
       "      <td>4</td>\n",
       "      <td>61.6</td>\n",
       "      <td>56.0</td>\n",
       "      <td>4.43</td>\n",
       "      <td>4.46</td>\n",
       "      <td>2.74</td>\n",
       "      <td>0</td>\n",
       "      <td>1</td>\n",
       "      <td>0</td>\n",
       "      <td>0</td>\n",
       "      <td>0</td>\n",
       "      <td>0</td>\n",
       "      <td>0</td>\n",
       "    </tr>\n",
       "  </tbody>\n",
       "</table>\n",
       "</div>"
      ],
      "text/plain": [
       "       carat  cut  clarity  depth  table     x     y     z  color_D  color_E  \\\n",
       "32081   0.33    3        4   61.6   56.0  4.43  4.46  2.74        0        1   \n",
       "\n",
       "       color_F  color_G  color_H  color_I  color_J  \n",
       "32081        0        0        0        0        0  "
      ]
     },
     "execution_count": 58,
     "metadata": {},
     "output_type": "execute_result"
    }
   ],
   "source": [
    "x_test[20:21]"
   ]
  },
  {
   "cell_type": "code",
   "execution_count": 59,
   "id": "0ecb6452",
   "metadata": {},
   "outputs": [
    {
     "data": {
      "text/plain": [
       "671.186444389974"
      ]
     },
     "execution_count": 59,
     "metadata": {},
     "output_type": "execute_result"
    }
   ],
   "source": [
    "linear_reg.predict(x_test[20:21])[0]"
   ]
  },
  {
   "cell_type": "code",
   "execution_count": 60,
   "id": "ad8458fd",
   "metadata": {},
   "outputs": [
    {
     "data": {
      "text/html": [
       "<div>\n",
       "<style scoped>\n",
       "    .dataframe tbody tr th:only-of-type {\n",
       "        vertical-align: middle;\n",
       "    }\n",
       "\n",
       "    .dataframe tbody tr th {\n",
       "        vertical-align: top;\n",
       "    }\n",
       "\n",
       "    .dataframe thead th {\n",
       "        text-align: right;\n",
       "    }\n",
       "</style>\n",
       "<table border=\"1\" class=\"dataframe\">\n",
       "  <thead>\n",
       "    <tr style=\"text-align: right;\">\n",
       "      <th></th>\n",
       "      <th>32081</th>\n",
       "    </tr>\n",
       "  </thead>\n",
       "  <tbody>\n",
       "    <tr>\n",
       "      <th>carat</th>\n",
       "      <td>0.33</td>\n",
       "    </tr>\n",
       "    <tr>\n",
       "      <th>cut</th>\n",
       "      <td>3.00</td>\n",
       "    </tr>\n",
       "    <tr>\n",
       "      <th>clarity</th>\n",
       "      <td>4.00</td>\n",
       "    </tr>\n",
       "    <tr>\n",
       "      <th>depth</th>\n",
       "      <td>61.60</td>\n",
       "    </tr>\n",
       "    <tr>\n",
       "      <th>table</th>\n",
       "      <td>56.00</td>\n",
       "    </tr>\n",
       "    <tr>\n",
       "      <th>x</th>\n",
       "      <td>4.43</td>\n",
       "    </tr>\n",
       "    <tr>\n",
       "      <th>y</th>\n",
       "      <td>4.46</td>\n",
       "    </tr>\n",
       "    <tr>\n",
       "      <th>z</th>\n",
       "      <td>2.74</td>\n",
       "    </tr>\n",
       "    <tr>\n",
       "      <th>color_D</th>\n",
       "      <td>0.00</td>\n",
       "    </tr>\n",
       "    <tr>\n",
       "      <th>color_E</th>\n",
       "      <td>1.00</td>\n",
       "    </tr>\n",
       "    <tr>\n",
       "      <th>color_F</th>\n",
       "      <td>0.00</td>\n",
       "    </tr>\n",
       "    <tr>\n",
       "      <th>color_G</th>\n",
       "      <td>0.00</td>\n",
       "    </tr>\n",
       "    <tr>\n",
       "      <th>color_H</th>\n",
       "      <td>0.00</td>\n",
       "    </tr>\n",
       "    <tr>\n",
       "      <th>color_I</th>\n",
       "      <td>0.00</td>\n",
       "    </tr>\n",
       "    <tr>\n",
       "      <th>color_J</th>\n",
       "      <td>0.00</td>\n",
       "    </tr>\n",
       "  </tbody>\n",
       "</table>\n",
       "</div>"
      ],
      "text/plain": [
       "         32081\n",
       "carat     0.33\n",
       "cut       3.00\n",
       "clarity   4.00\n",
       "depth    61.60\n",
       "table    56.00\n",
       "x         4.43\n",
       "y         4.46\n",
       "z         2.74\n",
       "color_D   0.00\n",
       "color_E   1.00\n",
       "color_F   0.00\n",
       "color_G   0.00\n",
       "color_H   0.00\n",
       "color_I   0.00\n",
       "color_J   0.00"
      ]
     },
     "execution_count": 60,
     "metadata": {},
     "output_type": "execute_result"
    }
   ],
   "source": [
    "x_test[20:21].T"
   ]
  },
  {
   "cell_type": "code",
   "execution_count": 61,
   "id": "b39ddd50",
   "metadata": {},
   "outputs": [
    {
     "data": {
      "text/plain": [
       "1579.947"
      ]
     },
     "execution_count": 61,
     "metadata": {},
     "output_type": "execute_result"
    }
   ],
   "source": [
    "carat=0.33\n",
    "cut='Ideal'\n",
    "clarity=\"I1\"\n",
    "depth=61.60\n",
    "table=56.00\n",
    "x=4.43\n",
    "y=4.46\n",
    "z=2.74\n",
    "color=\"D\"\n",
    "column_name=X.columns.tolist()\n",
    "cut=cut_lables[cut]\n",
    "clarity=clarity_lables[clarity]\n",
    "color=\"color_\"+color\n",
    "color_index=column_name.index(color)\n",
    "\n",
    "test_array=np.zeros([1,linear_reg.n_features_in_])\n",
    "test_array[0,0]=carat\n",
    "test_array[0,1]=cut\n",
    "test_array[0,2]=clarity\n",
    "test_array[0,3]=depth\n",
    "test_array[0,4]=table\n",
    "test_array[0,5]=x\n",
    "test_array[0,6]=y\n",
    "test_array[0,7]=z\n",
    "test_array[0,color_index]=1\n",
    "\n",
    "predicted_price=np.round(linear_reg.predict(test_array)[0],3)\n",
    "predicted_price"
   ]
  },
  {
   "cell_type": "code",
   "execution_count": 62,
   "id": "e47c7387",
   "metadata": {},
   "outputs": [],
   "source": [
    "with open(\"Daimond_price_model.pkl\",'wb') as f:\n",
    "    pickle.dump(linear_reg,f)"
   ]
  },
  {
   "cell_type": "code",
   "execution_count": 63,
   "id": "bb86f78b",
   "metadata": {},
   "outputs": [],
   "source": [
    "project_data={\"Cut\":cut_lables,\"Clarity\":clarity_lables,\"Column Name\":column_name}"
   ]
  },
  {
   "cell_type": "code",
   "execution_count": 64,
   "id": "9d0d2f92",
   "metadata": {},
   "outputs": [],
   "source": [
    "with open(\"proj_data.json\",'w') as f:\n",
    "    json.dump(project_data,f)"
   ]
  },
  {
   "cell_type": "code",
   "execution_count": null,
   "id": "0f19bc3c",
   "metadata": {},
   "outputs": [],
   "source": []
  }
 ],
 "metadata": {
  "kernelspec": {
   "display_name": "Python 3 (ipykernel)",
   "language": "python",
   "name": "python3"
  },
  "language_info": {
   "codemirror_mode": {
    "name": "ipython",
    "version": 3
   },
   "file_extension": ".py",
   "mimetype": "text/x-python",
   "name": "python",
   "nbconvert_exporter": "python",
   "pygments_lexer": "ipython3",
   "version": "3.10.9"
  }
 },
 "nbformat": 4,
 "nbformat_minor": 5
}
